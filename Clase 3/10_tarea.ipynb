{
    "metadata": {
        "kernelspec": {
            "name": "SQL",
            "display_name": "SQL",
            "language": "sql"
        },
        "language_info": {
            "name": "sql",
            "version": ""
        }
    },
    "nbformat_minor": 2,
    "nbformat": 4,
    "cells": [
        {
            "cell_type": "markdown",
            "source": [
                "  \n",
                "\n",
                "**Grupo 1**\n",
                "\n",
                "1. Mostrar los clientes cuyo teléfono termina en ‘0000’.\n",
                "\n",
                "2. Listar los productos con precio inferior a 5.\n",
                "\n",
                "3. Obtener la suma total de ventas realizadas en la última semana.\n",
                "\n",
                "4. Mostrar la fecha de las ventas junto con el cliente correspondiente.\n",
                "\n",
                "5. Identificar las categorías de productos con más de 10 productos.\n"
            ],
            "metadata": {
                "azdata_cell_guid": "7c002ef0-45d1-4d87-b40b-8b286add1db0"
            },
            "attachments": {}
        },
        {
            "cell_type": "markdown",
            "source": [
                "  \n",
                "\n",
                "**Grupo 2**\n",
                "\n",
                "6. Obtener los productos vendidos en cantidades mayores a 5.\n",
                "\n",
                "7. Mostrar los clientes que realizaron más de una compra.\n",
                "\n",
                "8. Calcular el total de ventas agrupadas por día.\n",
                "\n",
                "9. Mostrar los productos que tienen el precio promedio más bajo por categoría.\n",
                "\n",
                "10. Listar las ventas cuyo total sea superior a $200.\n",
                "\n",
                "  "
            ],
            "metadata": {
                "azdata_cell_guid": "5b424ff8-d841-4c6d-be51-c3cf97f94143"
            },
            "attachments": {}
        },
        {
            "cell_type": "markdown",
            "source": [
                "\n",
                "**Grupo 3**\n",
                "\n",
                "11. Encontrar los productos más vendidos en cantidad y ordenarlos de mayor a menor.\n",
                "\n",
                "12. Obtener el número total de productos vendidos agrupados por venta.\n",
                "\n",
                "13. Mostrar los clientes que no tienen correo electrónico registrado.\n",
                "\n",
                "14. Identificar el producto más caro de cada categoría.\n",
                "\n",
                "15. Mostrar el total gastado por cliente, ordenado de mayor a menor.\n",
                "\n",
                "  "
            ],
            "metadata": {
                "azdata_cell_guid": "f95d6806-4461-4ad3-beec-39c5d6fe66c8"
            },
            "attachments": {}
        },
        {
            "cell_type": "markdown",
            "source": [
                "\n",
                "**Grupo 4**\n",
                "\n",
                "16. Mostrar todas las ventas realizadas junto con sus productos y cantidades.\n",
                "\n",
                "17. Obtener las fechas en las que no se realizaron ventas.\n",
                "\n",
                "18. Identificar las ventas que incluyeron productos de la categoría ‘Carnicería’.\n",
                "\n",
                "19. Contar cuántas ventas se realizaron por cliente.\n",
                "\n",
                "20. Listar los clientes con más de 2 ventas registradas.\n",
                "\n",
                "  "
            ],
            "metadata": {
                "azdata_cell_guid": "a1f43bdc-5778-4358-9790-f0d8d170d5f5"
            },
            "attachments": {}
        },
        {
            "cell_type": "markdown",
            "source": [
                "\n",
                "**Grupo 5**\n",
                "\n",
                "21. Calcular el total acumulado de ventas por producto.\n",
                "\n",
                "22. Mostrar las ventas sin detalles de productos asociados.\n",
                "\n",
                "23. Obtener las ventas y el total de productos vendidos por venta.\n",
                "\n",
                "24. Listar los clientes y las categorías de productos que compraron.\n",
                "\n",
                "25. Identificar las ventas con subtotal promedio superior a $50.\n",
                "\n",
                "  "
            ],
            "metadata": {
                "azdata_cell_guid": "358edafe-ff2c-4b45-9740-f8f2fca7c302"
            },
            "attachments": {}
        }
    ]
}