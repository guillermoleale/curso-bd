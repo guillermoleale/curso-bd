{
    "metadata": {
        "kernelspec": {
            "name": "SQL",
            "display_name": "SQL",
            "language": "sql"
        },
        "language_info": {
            "name": "sql",
            "version": ""
        }
    },
    "nbformat_minor": 2,
    "nbformat": 4,
    "cells": [
        {
            "cell_type": "markdown",
            "source": [
                "Contenido Detallado con Ejemplos\n"
            ],
            "metadata": {
                "azdata_cell_guid": "f6d09d54-b34e-45f0-91c6-03c9fd86c49b"
            },
            "attachments": {}
        },
        {
            "cell_type": "markdown",
            "source": [
                "1. SELECT Básico\n",
                "Consulta: Recuperar todos los clientes.\n",
                ""
            ],
            "metadata": {
                "azdata_cell_guid": "64f8d2e6-5a80-4fa8-a310-84175e4d946d"
            },
            "attachments": {}
        },
        {
            "cell_type": "code",
            "source": [
                "\n",
                "SELECT * \n",
                "FROM clientes;\n"
            ],
            "metadata": {
                "azdata_cell_guid": "3c9740f6-ff70-4abd-8a97-c109d33e678f",
                "language": "sql"
            },
            "outputs": [
{
    "output_type": "display_data",
    "data": {
        "text/html": "(100 row(s) affected)"
    },
    "metadata": {}
}, {
    "output_type": "display_data",
    "data": {
        "text/html": "Total execution time: 00:00:00.023"
    },
    "metadata": {}
}, {
    "output_type": "execute_result",
    "metadata": {},
    "execution_count": 1,
    "data": {
        "application/vnd.dataresource+json": {
            "schema": {
                "fields": [
                    {
                        "name": "cliente_id"
                    },
                    {
                        "name": "nombre"
                    },
                    {
                        "name": "apellido"
                    },
                    {
                        "name": "email"
                    },
                    {
                        "name": "telefono"
                    }
                ]
            },
            "data": [
                {
                    "cliente_id": "1",
                    "nombre": "Cliente_1",
                    "apellido": "Apellido_1",
                    "email": "cliente1@example.com",
                    "telefono": "123-456-0001"
                },
                {
                    "cliente_id": "2",
                    "nombre": "Cliente_2",
                    "apellido": "Apellido_2",
                    "email": "cliente2@example.com",
                    "telefono": "123-456-0002"
                },
                {
                    "cliente_id": "3",
                    "nombre": "Cliente_3",
                    "apellido": "Apellido_3",
                    "email": "cliente3@example.com",
                    "telefono": "123-456-0003"
                },
                {
                    "cliente_id": "4",
                    "nombre": "Cliente_4",
                    "apellido": "Apellido_4",
                    "email": "cliente4@example.com",
                    "telefono": "123-456-0004"
                },
                {
                    "cliente_id": "5",
                    "nombre": "Cliente_5",
                    "apellido": "Apellido_5",
                    "email": "cliente5@example.com",
                    "telefono": "123-456-0005"
                },
                {
                    "cliente_id": "6",
                    "nombre": "Cliente_6",
                    "apellido": "Apellido_6",
                    "email": "cliente6@example.com",
                    "telefono": "123-456-0006"
                },
                {
                    "cliente_id": "7",
                    "nombre": "Cliente_7",
                    "apellido": "Apellido_7",
                    "email": "cliente7@example.com",
                    "telefono": "123-456-0007"
                },
                {
                    "cliente_id": "8",
                    "nombre": "Cliente_8",
                    "apellido": "Apellido_8",
                    "email": "cliente8@example.com",
                    "telefono": "123-456-0008"
                },
                {
                    "cliente_id": "9",
                    "nombre": "Cliente_9",
                    "apellido": "Apellido_9",
                    "email": "cliente9@example.com",
                    "telefono": "123-456-0009"
                },
                {
                    "cliente_id": "10",
                    "nombre": "Cliente_10",
                    "apellido": "Apellido_10",
                    "email": "cliente10@example.com",
                    "telefono": "123-456-0010"
                },
                {
                    "cliente_id": "11",
                    "nombre": "Cliente_11",
                    "apellido": "Apellido_11",
                    "email": "cliente11@example.com",
                    "telefono": "123-456-0011"
                },
                {
                    "cliente_id": "12",
                    "nombre": "Cliente_12",
                    "apellido": "Apellido_12",
                    "email": "cliente12@example.com",
                    "telefono": "123-456-0012"
                },
                {
                    "cliente_id": "13",
                    "nombre": "Cliente_13",
                    "apellido": "Apellido_13",
                    "email": "cliente13@example.com",
                    "telefono": "123-456-0013"
                },
                {
                    "cliente_id": "14",
                    "nombre": "Cliente_14",
                    "apellido": "Apellido_14",
                    "email": "cliente14@example.com",
                    "telefono": "123-456-0014"
                },
                {
                    "cliente_id": "15",
                    "nombre": "Cliente_15",
                    "apellido": "Apellido_15",
                    "email": "cliente15@example.com",
                    "telefono": "123-456-0015"
                },
                {
                    "cliente_id": "16",
                    "nombre": "Cliente_16",
                    "apellido": "Apellido_16",
                    "email": "cliente16@example.com",
                    "telefono": "123-456-0016"
                },
                {
                    "cliente_id": "17",
                    "nombre": "Cliente_17",
                    "apellido": "Apellido_17",
                    "email": "cliente17@example.com",
                    "telefono": "123-456-0017"
                },
                {
                    "cliente_id": "18",
                    "nombre": "Cliente_18",
                    "apellido": "Apellido_18",
                    "email": "cliente18@example.com",
                    "telefono": "123-456-0018"
                },
                {
                    "cliente_id": "19",
                    "nombre": "Cliente_19",
                    "apellido": "Apellido_19",
                    "email": "cliente19@example.com",
                    "telefono": "123-456-0019"
                },
                {
                    "cliente_id": "20",
                    "nombre": "Cliente_20",
                    "apellido": "Apellido_20",
                    "email": "cliente20@example.com",
                    "telefono": "123-456-0020"
                },
                {
                    "cliente_id": "21",
                    "nombre": "Cliente_21",
                    "apellido": "Apellido_21",
                    "email": "cliente21@example.com",
                    "telefono": "123-456-0021"
                },
                {
                    "cliente_id": "22",
                    "nombre": "Cliente_22",
                    "apellido": "Apellido_22",
                    "email": "cliente22@example.com",
                    "telefono": "123-456-0022"
                },
                {
                    "cliente_id": "23",
                    "nombre": "Cliente_23",
                    "apellido": "Apellido_23",
                    "email": "cliente23@example.com",
                    "telefono": "123-456-0023"
                },
                {
                    "cliente_id": "24",
                    "nombre": "Cliente_24",
                    "apellido": "Apellido_24",
                    "email": "cliente24@example.com",
                    "telefono": "123-456-0024"
                },
                {
                    "cliente_id": "25",
                    "nombre": "Cliente_25",
                    "apellido": "Apellido_25",
                    "email": "cliente25@example.com",
                    "telefono": "123-456-0025"
                },
                {
                    "cliente_id": "26",
                    "nombre": "Cliente_26",
                    "apellido": "Apellido_26",
                    "email": "cliente26@example.com",
                    "telefono": "123-456-0026"
                },
                {
                    "cliente_id": "27",
                    "nombre": "Cliente_27",
                    "apellido": "Apellido_27",
                    "email": "cliente27@example.com",
                    "telefono": "123-456-0027"
                },
                {
                    "cliente_id": "28",
                    "nombre": "Cliente_28",
                    "apellido": "Apellido_28",
                    "email": "cliente28@example.com",
                    "telefono": "123-456-0028"
                },
                {
                    "cliente_id": "29",
                    "nombre": "Cliente_29",
                    "apellido": "Apellido_29",
                    "email": "cliente29@example.com",
                    "telefono": "123-456-0029"
                },
                {
                    "cliente_id": "30",
                    "nombre": "Cliente_30",
                    "apellido": "Apellido_30",
                    "email": "cliente30@example.com",
                    "telefono": "123-456-0030"
                },
                {
                    "cliente_id": "31",
                    "nombre": "Cliente_31",
                    "apellido": "Apellido_31",
                    "email": "cliente31@example.com",
                    "telefono": "123-456-0031"
                },
                {
                    "cliente_id": "32",
                    "nombre": "Cliente_32",
                    "apellido": "Apellido_32",
                    "email": "cliente32@example.com",
                    "telefono": "123-456-0032"
                },
                {
                    "cliente_id": "33",
                    "nombre": "Cliente_33",
                    "apellido": "Apellido_33",
                    "email": "cliente33@example.com",
                    "telefono": "123-456-0033"
                },
                {
                    "cliente_id": "34",
                    "nombre": "Cliente_34",
                    "apellido": "Apellido_34",
                    "email": "cliente34@example.com",
                    "telefono": "123-456-0034"
                },
                {
                    "cliente_id": "35",
                    "nombre": "Cliente_35",
                    "apellido": "Apellido_35",
                    "email": "cliente35@example.com",
                    "telefono": "123-456-0035"
                },
                {
                    "cliente_id": "36",
                    "nombre": "Cliente_36",
                    "apellido": "Apellido_36",
                    "email": "cliente36@example.com",
                    "telefono": "123-456-0036"
                },
                {
                    "cliente_id": "37",
                    "nombre": "Cliente_37",
                    "apellido": "Apellido_37",
                    "email": "cliente37@example.com",
                    "telefono": "123-456-0037"
                },
                {
                    "cliente_id": "38",
                    "nombre": "Cliente_38",
                    "apellido": "Apellido_38",
                    "email": "cliente38@example.com",
                    "telefono": "123-456-0038"
                },
                {
                    "cliente_id": "39",
                    "nombre": "Cliente_39",
                    "apellido": "Apellido_39",
                    "email": "cliente39@example.com",
                    "telefono": "123-456-0039"
                },
                {
                    "cliente_id": "40",
                    "nombre": "Cliente_40",
                    "apellido": "Apellido_40",
                    "email": "cliente40@example.com",
                    "telefono": "123-456-0040"
                },
                {
                    "cliente_id": "41",
                    "nombre": "Cliente_41",
                    "apellido": "Apellido_41",
                    "email": "cliente41@example.com",
                    "telefono": "123-456-0041"
                },
                {
                    "cliente_id": "42",
                    "nombre": "Cliente_42",
                    "apellido": "Apellido_42",
                    "email": "cliente42@example.com",
                    "telefono": "123-456-0042"
                },
                {
                    "cliente_id": "43",
                    "nombre": "Cliente_43",
                    "apellido": "Apellido_43",
                    "email": "cliente43@example.com",
                    "telefono": "123-456-0043"
                },
                {
                    "cliente_id": "44",
                    "nombre": "Cliente_44",
                    "apellido": "Apellido_44",
                    "email": "cliente44@example.com",
                    "telefono": "123-456-0044"
                },
                {
                    "cliente_id": "45",
                    "nombre": "Cliente_45",
                    "apellido": "Apellido_45",
                    "email": "cliente45@example.com",
                    "telefono": "123-456-0045"
                },
                {
                    "cliente_id": "46",
                    "nombre": "Cliente_46",
                    "apellido": "Apellido_46",
                    "email": "cliente46@example.com",
                    "telefono": "123-456-0046"
                },
                {
                    "cliente_id": "47",
                    "nombre": "Cliente_47",
                    "apellido": "Apellido_47",
                    "email": "cliente47@example.com",
                    "telefono": "123-456-0047"
                },
                {
                    "cliente_id": "48",
                    "nombre": "Cliente_48",
                    "apellido": "Apellido_48",
                    "email": "cliente48@example.com",
                    "telefono": "123-456-0048"
                },
                {
                    "cliente_id": "49",
                    "nombre": "Cliente_49",
                    "apellido": "Apellido_49",
                    "email": "cliente49@example.com",
                    "telefono": "123-456-0049"
                },
                {
                    "cliente_id": "50",
                    "nombre": "Cliente_50",
                    "apellido": "Apellido_50",
                    "email": "cliente50@example.com",
                    "telefono": "123-456-0050"
                },
                {
                    "cliente_id": "51",
                    "nombre": "Cliente_51",
                    "apellido": "Apellido_51",
                    "email": "cliente51@example.com",
                    "telefono": "123-456-0051"
                },
                {
                    "cliente_id": "52",
                    "nombre": "Cliente_52",
                    "apellido": "Apellido_52",
                    "email": "cliente52@example.com",
                    "telefono": "123-456-0052"
                },
                {
                    "cliente_id": "53",
                    "nombre": "Cliente_53",
                    "apellido": "Apellido_53",
                    "email": "cliente53@example.com",
                    "telefono": "123-456-0053"
                },
                {
                    "cliente_id": "54",
                    "nombre": "Cliente_54",
                    "apellido": "Apellido_54",
                    "email": "cliente54@example.com",
                    "telefono": "123-456-0054"
                },
                {
                    "cliente_id": "55",
                    "nombre": "Cliente_55",
                    "apellido": "Apellido_55",
                    "email": "cliente55@example.com",
                    "telefono": "123-456-0055"
                },
                {
                    "cliente_id": "56",
                    "nombre": "Cliente_56",
                    "apellido": "Apellido_56",
                    "email": "cliente56@example.com",
                    "telefono": "123-456-0056"
                },
                {
                    "cliente_id": "57",
                    "nombre": "Cliente_57",
                    "apellido": "Apellido_57",
                    "email": "cliente57@example.com",
                    "telefono": "123-456-0057"
                },
                {
                    "cliente_id": "58",
                    "nombre": "Cliente_58",
                    "apellido": "Apellido_58",
                    "email": "cliente58@example.com",
                    "telefono": "123-456-0058"
                },
                {
                    "cliente_id": "59",
                    "nombre": "Cliente_59",
                    "apellido": "Apellido_59",
                    "email": "cliente59@example.com",
                    "telefono": "123-456-0059"
                },
                {
                    "cliente_id": "60",
                    "nombre": "Cliente_60",
                    "apellido": "Apellido_60",
                    "email": "cliente60@example.com",
                    "telefono": "123-456-0060"
                },
                {
                    "cliente_id": "61",
                    "nombre": "Cliente_61",
                    "apellido": "Apellido_61",
                    "email": "cliente61@example.com",
                    "telefono": "123-456-0061"
                },
                {
                    "cliente_id": "62",
                    "nombre": "Cliente_62",
                    "apellido": "Apellido_62",
                    "email": "cliente62@example.com",
                    "telefono": "123-456-0062"
                },
                {
                    "cliente_id": "63",
                    "nombre": "Cliente_63",
                    "apellido": "Apellido_63",
                    "email": "cliente63@example.com",
                    "telefono": "123-456-0063"
                },
                {
                    "cliente_id": "64",
                    "nombre": "Cliente_64",
                    "apellido": "Apellido_64",
                    "email": "cliente64@example.com",
                    "telefono": "123-456-0064"
                },
                {
                    "cliente_id": "65",
                    "nombre": "Cliente_65",
                    "apellido": "Apellido_65",
                    "email": "cliente65@example.com",
                    "telefono": "123-456-0065"
                },
                {
                    "cliente_id": "66",
                    "nombre": "Cliente_66",
                    "apellido": "Apellido_66",
                    "email": "cliente66@example.com",
                    "telefono": "123-456-0066"
                },
                {
                    "cliente_id": "67",
                    "nombre": "Cliente_67",
                    "apellido": "Apellido_67",
                    "email": "cliente67@example.com",
                    "telefono": "123-456-0067"
                },
                {
                    "cliente_id": "68",
                    "nombre": "Cliente_68",
                    "apellido": "Apellido_68",
                    "email": "cliente68@example.com",
                    "telefono": "123-456-0068"
                },
                {
                    "cliente_id": "69",
                    "nombre": "Cliente_69",
                    "apellido": "Apellido_69",
                    "email": "cliente69@example.com",
                    "telefono": "123-456-0069"
                },
                {
                    "cliente_id": "70",
                    "nombre": "Cliente_70",
                    "apellido": "Apellido_70",
                    "email": "cliente70@example.com",
                    "telefono": "123-456-0070"
                },
                {
                    "cliente_id": "71",
                    "nombre": "Cliente_71",
                    "apellido": "Apellido_71",
                    "email": "cliente71@example.com",
                    "telefono": "123-456-0071"
                },
                {
                    "cliente_id": "72",
                    "nombre": "Cliente_72",
                    "apellido": "Apellido_72",
                    "email": "cliente72@example.com",
                    "telefono": "123-456-0072"
                },
                {
                    "cliente_id": "73",
                    "nombre": "Cliente_73",
                    "apellido": "Apellido_73",
                    "email": "cliente73@example.com",
                    "telefono": "123-456-0073"
                },
                {
                    "cliente_id": "74",
                    "nombre": "Cliente_74",
                    "apellido": "Apellido_74",
                    "email": "cliente74@example.com",
                    "telefono": "123-456-0074"
                },
                {
                    "cliente_id": "75",
                    "nombre": "Cliente_75",
                    "apellido": "Apellido_75",
                    "email": "cliente75@example.com",
                    "telefono": "123-456-0075"
                },
                {
                    "cliente_id": "76",
                    "nombre": "Cliente_76",
                    "apellido": "Apellido_76",
                    "email": "cliente76@example.com",
                    "telefono": "123-456-0076"
                },
                {
                    "cliente_id": "77",
                    "nombre": "Cliente_77",
                    "apellido": "Apellido_77",
                    "email": "cliente77@example.com",
                    "telefono": "123-456-0077"
                },
                {
                    "cliente_id": "78",
                    "nombre": "Cliente_78",
                    "apellido": "Apellido_78",
                    "email": "cliente78@example.com",
                    "telefono": "123-456-0078"
                },
                {
                    "cliente_id": "79",
                    "nombre": "Cliente_79",
                    "apellido": "Apellido_79",
                    "email": "cliente79@example.com",
                    "telefono": "123-456-0079"
                },
                {
                    "cliente_id": "80",
                    "nombre": "Cliente_80",
                    "apellido": "Apellido_80",
                    "email": "cliente80@example.com",
                    "telefono": "123-456-0080"
                },
                {
                    "cliente_id": "81",
                    "nombre": "Cliente_81",
                    "apellido": "Apellido_81",
                    "email": "cliente81@example.com",
                    "telefono": "123-456-0081"
                },
                {
                    "cliente_id": "82",
                    "nombre": "Cliente_82",
                    "apellido": "Apellido_82",
                    "email": "cliente82@example.com",
                    "telefono": "123-456-0082"
                },
                {
                    "cliente_id": "83",
                    "nombre": "Cliente_83",
                    "apellido": "Apellido_83",
                    "email": "cliente83@example.com",
                    "telefono": "123-456-0083"
                },
                {
                    "cliente_id": "84",
                    "nombre": "Cliente_84",
                    "apellido": "Apellido_84",
                    "email": "cliente84@example.com",
                    "telefono": "123-456-0084"
                },
                {
                    "cliente_id": "85",
                    "nombre": "Cliente_85",
                    "apellido": "Apellido_85",
                    "email": "cliente85@example.com",
                    "telefono": "123-456-0085"
                },
                {
                    "cliente_id": "86",
                    "nombre": "Cliente_86",
                    "apellido": "Apellido_86",
                    "email": "cliente86@example.com",
                    "telefono": "123-456-0086"
                },
                {
                    "cliente_id": "87",
                    "nombre": "Cliente_87",
                    "apellido": "Apellido_87",
                    "email": "cliente87@example.com",
                    "telefono": "123-456-0087"
                },
                {
                    "cliente_id": "88",
                    "nombre": "Cliente_88",
                    "apellido": "Apellido_88",
                    "email": "cliente88@example.com",
                    "telefono": "123-456-0088"
                },
                {
                    "cliente_id": "89",
                    "nombre": "Cliente_89",
                    "apellido": "Apellido_89",
                    "email": "cliente89@example.com",
                    "telefono": "123-456-0089"
                },
                {
                    "cliente_id": "90",
                    "nombre": "Cliente_90",
                    "apellido": "Apellido_90",
                    "email": "cliente90@example.com",
                    "telefono": "123-456-0090"
                },
                {
                    "cliente_id": "91",
                    "nombre": "Cliente_91",
                    "apellido": "Apellido_91",
                    "email": "cliente91@example.com",
                    "telefono": "123-456-0091"
                },
                {
                    "cliente_id": "92",
                    "nombre": "Cliente_92",
                    "apellido": "Apellido_92",
                    "email": "cliente92@example.com",
                    "telefono": "123-456-0092"
                },
                {
                    "cliente_id": "93",
                    "nombre": "Cliente_93",
                    "apellido": "Apellido_93",
                    "email": "cliente93@example.com",
                    "telefono": "123-456-0093"
                },
                {
                    "cliente_id": "94",
                    "nombre": "Cliente_94",
                    "apellido": "Apellido_94",
                    "email": "cliente94@example.com",
                    "telefono": "123-456-0094"
                },
                {
                    "cliente_id": "95",
                    "nombre": "Cliente_95",
                    "apellido": "Apellido_95",
                    "email": "cliente95@example.com",
                    "telefono": "123-456-0095"
                },
                {
                    "cliente_id": "96",
                    "nombre": "Cliente_96",
                    "apellido": "Apellido_96",
                    "email": "cliente96@example.com",
                    "telefono": "123-456-0096"
                },
                {
                    "cliente_id": "97",
                    "nombre": "Cliente_97",
                    "apellido": "Apellido_97",
                    "email": "cliente97@example.com",
                    "telefono": "123-456-0097"
                },
                {
                    "cliente_id": "98",
                    "nombre": "Cliente_98",
                    "apellido": "Apellido_98",
                    "email": "cliente98@example.com",
                    "telefono": "123-456-0098"
                },
                {
                    "cliente_id": "99",
                    "nombre": "Cliente_99",
                    "apellido": "Apellido_99",
                    "email": "cliente99@example.com",
                    "telefono": "123-456-0099"
                },
                {
                    "cliente_id": "100",
                    "nombre": "Cliente_100",
                    "apellido": "Apellido_100",
                    "email": "cliente100@example.com",
                    "telefono": "123-456-0100"
                }
            ]
        },
        "text/html": [
            "<table>",
            "<tr><th>cliente_id</th><th>nombre</th><th>apellido</th><th>email</th><th>telefono</th></tr>",
            "<tr><td>1</td><td>Cliente_1</td><td>Apellido_1</td><td>cliente1@example.com</td><td>123-456-0001</td></tr>",
            "<tr><td>2</td><td>Cliente_2</td><td>Apellido_2</td><td>cliente2@example.com</td><td>123-456-0002</td></tr>",
            "<tr><td>3</td><td>Cliente_3</td><td>Apellido_3</td><td>cliente3@example.com</td><td>123-456-0003</td></tr>",
            "<tr><td>4</td><td>Cliente_4</td><td>Apellido_4</td><td>cliente4@example.com</td><td>123-456-0004</td></tr>",
            "<tr><td>5</td><td>Cliente_5</td><td>Apellido_5</td><td>cliente5@example.com</td><td>123-456-0005</td></tr>",
            "<tr><td>6</td><td>Cliente_6</td><td>Apellido_6</td><td>cliente6@example.com</td><td>123-456-0006</td></tr>",
            "<tr><td>7</td><td>Cliente_7</td><td>Apellido_7</td><td>cliente7@example.com</td><td>123-456-0007</td></tr>",
            "<tr><td>8</td><td>Cliente_8</td><td>Apellido_8</td><td>cliente8@example.com</td><td>123-456-0008</td></tr>",
            "<tr><td>9</td><td>Cliente_9</td><td>Apellido_9</td><td>cliente9@example.com</td><td>123-456-0009</td></tr>",
            "<tr><td>10</td><td>Cliente_10</td><td>Apellido_10</td><td>cliente10@example.com</td><td>123-456-0010</td></tr>",
            "<tr><td>11</td><td>Cliente_11</td><td>Apellido_11</td><td>cliente11@example.com</td><td>123-456-0011</td></tr>",
            "<tr><td>12</td><td>Cliente_12</td><td>Apellido_12</td><td>cliente12@example.com</td><td>123-456-0012</td></tr>",
            "<tr><td>13</td><td>Cliente_13</td><td>Apellido_13</td><td>cliente13@example.com</td><td>123-456-0013</td></tr>",
            "<tr><td>14</td><td>Cliente_14</td><td>Apellido_14</td><td>cliente14@example.com</td><td>123-456-0014</td></tr>",
            "<tr><td>15</td><td>Cliente_15</td><td>Apellido_15</td><td>cliente15@example.com</td><td>123-456-0015</td></tr>",
            "<tr><td>16</td><td>Cliente_16</td><td>Apellido_16</td><td>cliente16@example.com</td><td>123-456-0016</td></tr>",
            "<tr><td>17</td><td>Cliente_17</td><td>Apellido_17</td><td>cliente17@example.com</td><td>123-456-0017</td></tr>",
            "<tr><td>18</td><td>Cliente_18</td><td>Apellido_18</td><td>cliente18@example.com</td><td>123-456-0018</td></tr>",
            "<tr><td>19</td><td>Cliente_19</td><td>Apellido_19</td><td>cliente19@example.com</td><td>123-456-0019</td></tr>",
            "<tr><td>20</td><td>Cliente_20</td><td>Apellido_20</td><td>cliente20@example.com</td><td>123-456-0020</td></tr>",
            "<tr><td>21</td><td>Cliente_21</td><td>Apellido_21</td><td>cliente21@example.com</td><td>123-456-0021</td></tr>",
            "<tr><td>22</td><td>Cliente_22</td><td>Apellido_22</td><td>cliente22@example.com</td><td>123-456-0022</td></tr>",
            "<tr><td>23</td><td>Cliente_23</td><td>Apellido_23</td><td>cliente23@example.com</td><td>123-456-0023</td></tr>",
            "<tr><td>24</td><td>Cliente_24</td><td>Apellido_24</td><td>cliente24@example.com</td><td>123-456-0024</td></tr>",
            "<tr><td>25</td><td>Cliente_25</td><td>Apellido_25</td><td>cliente25@example.com</td><td>123-456-0025</td></tr>",
            "<tr><td>26</td><td>Cliente_26</td><td>Apellido_26</td><td>cliente26@example.com</td><td>123-456-0026</td></tr>",
            "<tr><td>27</td><td>Cliente_27</td><td>Apellido_27</td><td>cliente27@example.com</td><td>123-456-0027</td></tr>",
            "<tr><td>28</td><td>Cliente_28</td><td>Apellido_28</td><td>cliente28@example.com</td><td>123-456-0028</td></tr>",
            "<tr><td>29</td><td>Cliente_29</td><td>Apellido_29</td><td>cliente29@example.com</td><td>123-456-0029</td></tr>",
            "<tr><td>30</td><td>Cliente_30</td><td>Apellido_30</td><td>cliente30@example.com</td><td>123-456-0030</td></tr>",
            "<tr><td>31</td><td>Cliente_31</td><td>Apellido_31</td><td>cliente31@example.com</td><td>123-456-0031</td></tr>",
            "<tr><td>32</td><td>Cliente_32</td><td>Apellido_32</td><td>cliente32@example.com</td><td>123-456-0032</td></tr>",
            "<tr><td>33</td><td>Cliente_33</td><td>Apellido_33</td><td>cliente33@example.com</td><td>123-456-0033</td></tr>",
            "<tr><td>34</td><td>Cliente_34</td><td>Apellido_34</td><td>cliente34@example.com</td><td>123-456-0034</td></tr>",
            "<tr><td>35</td><td>Cliente_35</td><td>Apellido_35</td><td>cliente35@example.com</td><td>123-456-0035</td></tr>",
            "<tr><td>36</td><td>Cliente_36</td><td>Apellido_36</td><td>cliente36@example.com</td><td>123-456-0036</td></tr>",
            "<tr><td>37</td><td>Cliente_37</td><td>Apellido_37</td><td>cliente37@example.com</td><td>123-456-0037</td></tr>",
            "<tr><td>38</td><td>Cliente_38</td><td>Apellido_38</td><td>cliente38@example.com</td><td>123-456-0038</td></tr>",
            "<tr><td>39</td><td>Cliente_39</td><td>Apellido_39</td><td>cliente39@example.com</td><td>123-456-0039</td></tr>",
            "<tr><td>40</td><td>Cliente_40</td><td>Apellido_40</td><td>cliente40@example.com</td><td>123-456-0040</td></tr>",
            "<tr><td>41</td><td>Cliente_41</td><td>Apellido_41</td><td>cliente41@example.com</td><td>123-456-0041</td></tr>",
            "<tr><td>42</td><td>Cliente_42</td><td>Apellido_42</td><td>cliente42@example.com</td><td>123-456-0042</td></tr>",
            "<tr><td>43</td><td>Cliente_43</td><td>Apellido_43</td><td>cliente43@example.com</td><td>123-456-0043</td></tr>",
            "<tr><td>44</td><td>Cliente_44</td><td>Apellido_44</td><td>cliente44@example.com</td><td>123-456-0044</td></tr>",
            "<tr><td>45</td><td>Cliente_45</td><td>Apellido_45</td><td>cliente45@example.com</td><td>123-456-0045</td></tr>",
            "<tr><td>46</td><td>Cliente_46</td><td>Apellido_46</td><td>cliente46@example.com</td><td>123-456-0046</td></tr>",
            "<tr><td>47</td><td>Cliente_47</td><td>Apellido_47</td><td>cliente47@example.com</td><td>123-456-0047</td></tr>",
            "<tr><td>48</td><td>Cliente_48</td><td>Apellido_48</td><td>cliente48@example.com</td><td>123-456-0048</td></tr>",
            "<tr><td>49</td><td>Cliente_49</td><td>Apellido_49</td><td>cliente49@example.com</td><td>123-456-0049</td></tr>",
            "<tr><td>50</td><td>Cliente_50</td><td>Apellido_50</td><td>cliente50@example.com</td><td>123-456-0050</td></tr>",
            "<tr><td>51</td><td>Cliente_51</td><td>Apellido_51</td><td>cliente51@example.com</td><td>123-456-0051</td></tr>",
            "<tr><td>52</td><td>Cliente_52</td><td>Apellido_52</td><td>cliente52@example.com</td><td>123-456-0052</td></tr>",
            "<tr><td>53</td><td>Cliente_53</td><td>Apellido_53</td><td>cliente53@example.com</td><td>123-456-0053</td></tr>",
            "<tr><td>54</td><td>Cliente_54</td><td>Apellido_54</td><td>cliente54@example.com</td><td>123-456-0054</td></tr>",
            "<tr><td>55</td><td>Cliente_55</td><td>Apellido_55</td><td>cliente55@example.com</td><td>123-456-0055</td></tr>",
            "<tr><td>56</td><td>Cliente_56</td><td>Apellido_56</td><td>cliente56@example.com</td><td>123-456-0056</td></tr>",
            "<tr><td>57</td><td>Cliente_57</td><td>Apellido_57</td><td>cliente57@example.com</td><td>123-456-0057</td></tr>",
            "<tr><td>58</td><td>Cliente_58</td><td>Apellido_58</td><td>cliente58@example.com</td><td>123-456-0058</td></tr>",
            "<tr><td>59</td><td>Cliente_59</td><td>Apellido_59</td><td>cliente59@example.com</td><td>123-456-0059</td></tr>",
            "<tr><td>60</td><td>Cliente_60</td><td>Apellido_60</td><td>cliente60@example.com</td><td>123-456-0060</td></tr>",
            "<tr><td>61</td><td>Cliente_61</td><td>Apellido_61</td><td>cliente61@example.com</td><td>123-456-0061</td></tr>",
            "<tr><td>62</td><td>Cliente_62</td><td>Apellido_62</td><td>cliente62@example.com</td><td>123-456-0062</td></tr>",
            "<tr><td>63</td><td>Cliente_63</td><td>Apellido_63</td><td>cliente63@example.com</td><td>123-456-0063</td></tr>",
            "<tr><td>64</td><td>Cliente_64</td><td>Apellido_64</td><td>cliente64@example.com</td><td>123-456-0064</td></tr>",
            "<tr><td>65</td><td>Cliente_65</td><td>Apellido_65</td><td>cliente65@example.com</td><td>123-456-0065</td></tr>",
            "<tr><td>66</td><td>Cliente_66</td><td>Apellido_66</td><td>cliente66@example.com</td><td>123-456-0066</td></tr>",
            "<tr><td>67</td><td>Cliente_67</td><td>Apellido_67</td><td>cliente67@example.com</td><td>123-456-0067</td></tr>",
            "<tr><td>68</td><td>Cliente_68</td><td>Apellido_68</td><td>cliente68@example.com</td><td>123-456-0068</td></tr>",
            "<tr><td>69</td><td>Cliente_69</td><td>Apellido_69</td><td>cliente69@example.com</td><td>123-456-0069</td></tr>",
            "<tr><td>70</td><td>Cliente_70</td><td>Apellido_70</td><td>cliente70@example.com</td><td>123-456-0070</td></tr>",
            "<tr><td>71</td><td>Cliente_71</td><td>Apellido_71</td><td>cliente71@example.com</td><td>123-456-0071</td></tr>",
            "<tr><td>72</td><td>Cliente_72</td><td>Apellido_72</td><td>cliente72@example.com</td><td>123-456-0072</td></tr>",
            "<tr><td>73</td><td>Cliente_73</td><td>Apellido_73</td><td>cliente73@example.com</td><td>123-456-0073</td></tr>",
            "<tr><td>74</td><td>Cliente_74</td><td>Apellido_74</td><td>cliente74@example.com</td><td>123-456-0074</td></tr>",
            "<tr><td>75</td><td>Cliente_75</td><td>Apellido_75</td><td>cliente75@example.com</td><td>123-456-0075</td></tr>",
            "<tr><td>76</td><td>Cliente_76</td><td>Apellido_76</td><td>cliente76@example.com</td><td>123-456-0076</td></tr>",
            "<tr><td>77</td><td>Cliente_77</td><td>Apellido_77</td><td>cliente77@example.com</td><td>123-456-0077</td></tr>",
            "<tr><td>78</td><td>Cliente_78</td><td>Apellido_78</td><td>cliente78@example.com</td><td>123-456-0078</td></tr>",
            "<tr><td>79</td><td>Cliente_79</td><td>Apellido_79</td><td>cliente79@example.com</td><td>123-456-0079</td></tr>",
            "<tr><td>80</td><td>Cliente_80</td><td>Apellido_80</td><td>cliente80@example.com</td><td>123-456-0080</td></tr>",
            "<tr><td>81</td><td>Cliente_81</td><td>Apellido_81</td><td>cliente81@example.com</td><td>123-456-0081</td></tr>",
            "<tr><td>82</td><td>Cliente_82</td><td>Apellido_82</td><td>cliente82@example.com</td><td>123-456-0082</td></tr>",
            "<tr><td>83</td><td>Cliente_83</td><td>Apellido_83</td><td>cliente83@example.com</td><td>123-456-0083</td></tr>",
            "<tr><td>84</td><td>Cliente_84</td><td>Apellido_84</td><td>cliente84@example.com</td><td>123-456-0084</td></tr>",
            "<tr><td>85</td><td>Cliente_85</td><td>Apellido_85</td><td>cliente85@example.com</td><td>123-456-0085</td></tr>",
            "<tr><td>86</td><td>Cliente_86</td><td>Apellido_86</td><td>cliente86@example.com</td><td>123-456-0086</td></tr>",
            "<tr><td>87</td><td>Cliente_87</td><td>Apellido_87</td><td>cliente87@example.com</td><td>123-456-0087</td></tr>",
            "<tr><td>88</td><td>Cliente_88</td><td>Apellido_88</td><td>cliente88@example.com</td><td>123-456-0088</td></tr>",
            "<tr><td>89</td><td>Cliente_89</td><td>Apellido_89</td><td>cliente89@example.com</td><td>123-456-0089</td></tr>",
            "<tr><td>90</td><td>Cliente_90</td><td>Apellido_90</td><td>cliente90@example.com</td><td>123-456-0090</td></tr>",
            "<tr><td>91</td><td>Cliente_91</td><td>Apellido_91</td><td>cliente91@example.com</td><td>123-456-0091</td></tr>",
            "<tr><td>92</td><td>Cliente_92</td><td>Apellido_92</td><td>cliente92@example.com</td><td>123-456-0092</td></tr>",
            "<tr><td>93</td><td>Cliente_93</td><td>Apellido_93</td><td>cliente93@example.com</td><td>123-456-0093</td></tr>",
            "<tr><td>94</td><td>Cliente_94</td><td>Apellido_94</td><td>cliente94@example.com</td><td>123-456-0094</td></tr>",
            "<tr><td>95</td><td>Cliente_95</td><td>Apellido_95</td><td>cliente95@example.com</td><td>123-456-0095</td></tr>",
            "<tr><td>96</td><td>Cliente_96</td><td>Apellido_96</td><td>cliente96@example.com</td><td>123-456-0096</td></tr>",
            "<tr><td>97</td><td>Cliente_97</td><td>Apellido_97</td><td>cliente97@example.com</td><td>123-456-0097</td></tr>",
            "<tr><td>98</td><td>Cliente_98</td><td>Apellido_98</td><td>cliente98@example.com</td><td>123-456-0098</td></tr>",
            "<tr><td>99</td><td>Cliente_99</td><td>Apellido_99</td><td>cliente99@example.com</td><td>123-456-0099</td></tr>",
            "<tr><td>100</td><td>Cliente_100</td><td>Apellido_100</td><td>cliente100@example.com</td><td>123-456-0100</td></tr>",
            "</table>"
        ]
    }
}
],
            "execution_count": 1
        },
        {
            "cell_type": "markdown",
            "source": [
                "2. WHERE: Filtrado de Datos\n",
                "\n",
                "Consulta: Recuperar ventas mayores a 15.\n"
            ],
            "metadata": {
                "azdata_cell_guid": "c2eeab36-e6d7-418a-ae9a-ae6eeb9354c4"
            },
            "attachments": {}
        },
        {
            "cell_type": "code",
            "source": [
                "SELECT * \n",
                "FROM ventas \n",
                "WHERE total > 15;\n"
            ],
            "metadata": {
                "azdata_cell_guid": "d4610deb-e112-4030-8085-1993c877aa6a",
                "language": "sql"
            },
            "outputs": [],
            "execution_count": null
        },
        {
            "cell_type": "markdown",
            "source": [
                "Consulta: Filtrar productos de la categoría ‘Lácteos’.\n"
            ],
            "metadata": {
                "azdata_cell_guid": "50106cc7-fa52-4e06-80d1-c0360789f291"
            },
            "attachments": {}
        },
        {
            "cell_type": "code",
            "source": [
                "SELECT * \n",
                "FROM productos \n",
                "WHERE categoria = 'Lácteos';\n"
            ],
            "metadata": {
                "azdata_cell_guid": "68369eb1-4fa1-4ae4-aaa8-d4982a00fdb1",
                "language": "sql"
            },
            "outputs": [],
            "execution_count": null
        },
        {
            "cell_type": "markdown",
            "source": [
                "3. JOINs\n",
                "\n",
                "INNER JOIN: Clientes y sus ventas.\n"
            ],
            "metadata": {
                "azdata_cell_guid": "7542bd9e-02d0-4006-8c37-8bc0cd248897"
            },
            "attachments": {}
        },
        {
            "cell_type": "code",
            "source": [
                "SELECT c.nombre, c.apellido, v.fecha, v.total\n",
                "FROM clientes c\n",
                "INNER JOIN ventas v ON c.cliente_id = v.cliente_id;\n"
            ],
            "metadata": {
                "azdata_cell_guid": "9718e398-2923-420a-bac7-347715ccfb71",
                "language": "sql"
            },
            "outputs": [],
            "execution_count": null
        },
        {
            "cell_type": "markdown",
            "source": [
                "LEFT JOIN: Mostrar todas las ventas y productos.\n"
            ],
            "metadata": {
                "azdata_cell_guid": "2e28774a-a834-456a-bf6c-c76cf72969b8"
            },
            "attachments": {}
        },
        {
            "cell_type": "code",
            "source": [
                "SELECT v.venta_id, p.nombre_producto, dv.cantidad, dv.subtotal\n",
                "FROM ventas v\n",
                "LEFT JOIN detalle_ventas dv ON v.venta_id = dv.venta_id\n",
                "LEFT JOIN productos p ON dv.producto_id = p.producto_id;\n"
            ],
            "metadata": {
                "azdata_cell_guid": "e1cf5fb5-8836-4204-bb05-58a63c708675",
                "language": "sql"
            },
            "outputs": [],
            "execution_count": null
        },
        {
            "cell_type": "markdown",
            "source": [
                "4. GROUP BY y Funciones Agregadas\n",
                "\n",
                "Consulta: Total de ventas por cliente.\n"
            ],
            "metadata": {
                "azdata_cell_guid": "0792d3ba-93dc-44e1-8964-9267725ad84d"
            },
            "attachments": {}
        },
        {
            "cell_type": "code",
            "source": [
                "SELECT c.nombre, c.apellido, SUM(v.total) AS total_compras\n",
                "FROM clientes c\n",
                "JOIN ventas v ON c.cliente_id = v.cliente_id\n",
                "GROUP BY c.nombre, c.apellido;\n"
            ],
            "metadata": {
                "azdata_cell_guid": "e32eb557-8211-4a94-8456-0e7ae9c166c8",
                "language": "sql"
            },
            "outputs": [],
            "execution_count": null
        },
        {
            "cell_type": "markdown",
            "source": [
                "Consulta: Promedio de precios por categoría.\n"
            ],
            "metadata": {
                "azdata_cell_guid": "0a4f7305-e15e-408a-80c8-a8e9621205da"
            },
            "attachments": {}
        },
        {
            "cell_type": "code",
            "source": [
                "SELECT categoria, AVG(precio) AS precio_promedio\n",
                "FROM productos\n",
                "GROUP BY categoria;\n"
            ],
            "metadata": {
                "azdata_cell_guid": "ec0ab220-f4b3-46b1-b98a-23120ce20b04",
                "language": "sql"
            },
            "outputs": [],
            "execution_count": null
        },
        {
            "cell_type": "markdown",
            "source": [
                "5. Comandos Básicos Adicionales\n",
                "\n",
                "INSERT: Agregar un nuevo cliente.\n"
            ],
            "metadata": {
                "azdata_cell_guid": "9828a799-edab-455b-ba8c-014655b084e6"
            },
            "attachments": {}
        },
        {
            "cell_type": "code",
            "source": [
                "INSERT INTO clientes (nombre, apellido, email, telefono) \n",
                "VALUES ('Ana', 'Rodríguez', 'arodriguez@example.com', '555-555-5555');\n"
            ],
            "metadata": {
                "azdata_cell_guid": "7cc41306-65c9-4dfa-b7c2-10c1d473100c",
                "language": "sql"
            },
            "outputs": [],
            "execution_count": null
        },
        {
            "cell_type": "markdown",
            "source": [
                "UPDATE: Actualizar precio de un producto.\n"
            ],
            "metadata": {
                "azdata_cell_guid": "0b13a9df-1e29-4db3-a57a-900fb134bd30"
            },
            "attachments": {}
        },
        {
            "cell_type": "code",
            "source": [
                "UPDATE productos \n",
                "SET precio = 1.50 \n",
                "WHERE nombre_producto = 'Leche';\n"
            ],
            "metadata": {
                "azdata_cell_guid": "04528f82-ce32-4d3f-82d6-fcc909bc5c1d",
                "language": "sql"
            },
            "outputs": [],
            "execution_count": null
        },
        {
            "cell_type": "markdown",
            "source": [
                "DELETE: Eliminar un cliente específico.\n"
            ],
            "metadata": {
                "azdata_cell_guid": "cd685270-4edc-4407-aea7-a5196533cb4d"
            },
            "attachments": {}
        },
        {
            "cell_type": "code",
            "source": [
                "DELETE FROM clientes \n",
                "WHERE cliente_id = 5;\n"
            ],
            "metadata": {
                "azdata_cell_guid": "26892b6b-72a8-4b1b-8797-760544d9639b",
                "language": "sql"
            },
            "outputs": [],
            "execution_count": null
        },
        {
            "cell_type": "markdown",
            "source": [
                "GRANT: Otorgar permisos de lectura a un usuario.\n"
            ],
            "metadata": {
                "azdata_cell_guid": "fc572d84-c78c-4b76-8232-4658ca7b1f8a"
            },
            "attachments": {}
        },
        {
            "cell_type": "code",
            "source": [
                "GRANT SELECT ON clientes TO usuario_lectura;\n"
            ],
            "metadata": {
                "azdata_cell_guid": "5bcf1128-0cba-4544-8b69-df3749606ab4",
                "language": "sql"
            },
            "outputs": [],
            "execution_count": null
        }
    ]
}