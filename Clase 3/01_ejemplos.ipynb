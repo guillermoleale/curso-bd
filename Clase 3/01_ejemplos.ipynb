{
    "metadata": {
        "kernelspec": {
            "name": "SQL",
            "display_name": "SQL",
            "language": "sql"
        },
        "language_info": {
            "name": "sql",
            "version": ""
        }
    },
    "nbformat_minor": 2,
    "nbformat": 4,
    "cells": [
        {
            "cell_type": "markdown",
            "source": [
                "Contenido Detallado con Ejemplos\n"
            ],
            "metadata": {
                "azdata_cell_guid": "f6d09d54-b34e-45f0-91c6-03c9fd86c49b"
            },
            "attachments": {}
        },
        {
            "cell_type": "markdown",
            "source": [
                "1. SELECT Básico\n",
                "Consulta: Recuperar todos los clientes.\n",
                ""
            ],
            "metadata": {
                "azdata_cell_guid": "64f8d2e6-5a80-4fa8-a310-84175e4d946d"
            },
            "attachments": {}
        },
        {
            "cell_type": "code",
            "source": [
                "\n",
                "SELECT * \n",
                "FROM clientes;\n"
            ],
            "metadata": {
                "azdata_cell_guid": "3c9740f6-ff70-4abd-8a97-c109d33e678f",
                "language": "sql"
            },
            "outputs": [],
            "execution_count": 2
        },
        {
            "cell_type": "markdown",
            "source": [
                "2. WHERE: Filtrado de Datos\n",
                "\n",
                "Consulta: Recuperar ventas mayores a 15.\n"
            ],
            "metadata": {
                "azdata_cell_guid": "c2eeab36-e6d7-418a-ae9a-ae6eeb9354c4"
            },
            "attachments": {}
        },
        {
            "cell_type": "code",
            "source": [
                "SELECT * \n",
                "FROM ventas \n",
                "WHERE total > 15;\n"
            ],
            "metadata": {
                "azdata_cell_guid": "d4610deb-e112-4030-8085-1993c877aa6a",
                "language": "sql"
            },
            "outputs": [],
            "execution_count": null
        },
        {
            "cell_type": "markdown",
            "source": [
                "Consulta: Filtrar productos de la categoría ‘Lácteos’.\n"
            ],
            "metadata": {
                "azdata_cell_guid": "50106cc7-fa52-4e06-80d1-c0360789f291"
            },
            "attachments": {}
        },
        {
            "cell_type": "code",
            "source": [
                "SELECT * \n",
                "FROM productos \n",
                "WHERE categoria = 'Lácteos';\n"
            ],
            "metadata": {
                "azdata_cell_guid": "68369eb1-4fa1-4ae4-aaa8-d4982a00fdb1",
                "language": "sql"
            },
            "outputs": [],
            "execution_count": null
        },
        {
            "cell_type": "markdown",
            "source": [
                "3. JOINs\n",
                "\n",
                "INNER JOIN: Clientes y sus ventas.\n"
            ],
            "metadata": {
                "azdata_cell_guid": "7542bd9e-02d0-4006-8c37-8bc0cd248897"
            },
            "attachments": {}
        },
        {
            "cell_type": "code",
            "source": [
                "SELECT c.nombre, c.apellido, v.fecha, v.total\n",
                "FROM clientes c\n",
                "INNER JOIN ventas v ON c.cliente_id = v.cliente_id;\n"
            ],
            "metadata": {
                "azdata_cell_guid": "9718e398-2923-420a-bac7-347715ccfb71",
                "language": "sql"
            },
            "outputs": [],
            "execution_count": null
        },
        {
            "cell_type": "markdown",
            "source": [
                "LEFT JOIN: Mostrar todas las ventas y productos.\n"
            ],
            "metadata": {
                "azdata_cell_guid": "2e28774a-a834-456a-bf6c-c76cf72969b8"
            },
            "attachments": {}
        },
        {
            "cell_type": "code",
            "source": [
                "SELECT v.venta_id, p.nombre_producto, dv.cantidad, dv.subtotal\n",
                "FROM ventas v\n",
                "LEFT JOIN detalle_ventas dv ON v.venta_id = dv.venta_id\n",
                "LEFT JOIN productos p ON dv.producto_id = p.producto_id;\n"
            ],
            "metadata": {
                "azdata_cell_guid": "e1cf5fb5-8836-4204-bb05-58a63c708675",
                "language": "sql"
            },
            "outputs": [],
            "execution_count": null
        },
        {
            "cell_type": "markdown",
            "source": [
                "4. GROUP BY y Funciones Agregadas\n",
                "\n",
                "Consulta: Total de ventas por cliente.\n"
            ],
            "metadata": {
                "azdata_cell_guid": "0792d3ba-93dc-44e1-8964-9267725ad84d"
            },
            "attachments": {}
        },
        {
            "cell_type": "code",
            "source": [
                "SELECT c.nombre, c.apellido, SUM(v.total) AS total_compras\n",
                "FROM clientes c\n",
                "JOIN ventas v ON c.cliente_id = v.cliente_id\n",
                "GROUP BY c.nombre, c.apellido;\n"
            ],
            "metadata": {
                "azdata_cell_guid": "e32eb557-8211-4a94-8456-0e7ae9c166c8",
                "language": "sql"
            },
            "outputs": [],
            "execution_count": null
        },
        {
            "cell_type": "markdown",
            "source": [
                "Consulta: Promedio de precios por categoría.\n"
            ],
            "metadata": {
                "azdata_cell_guid": "0a4f7305-e15e-408a-80c8-a8e9621205da"
            },
            "attachments": {}
        },
        {
            "cell_type": "code",
            "source": [
                "SELECT categoria, AVG(precio) AS precio_promedio\n",
                "FROM productos\n",
                "GROUP BY categoria;\n"
            ],
            "metadata": {
                "azdata_cell_guid": "ec0ab220-f4b3-46b1-b98a-23120ce20b04",
                "language": "sql"
            },
            "outputs": [],
            "execution_count": null
        },
        {
            "cell_type": "markdown",
            "source": [
                "5. Comandos Básicos Adicionales\n",
                "\n",
                "INSERT: Agregar un nuevo cliente.\n"
            ],
            "metadata": {
                "azdata_cell_guid": "9828a799-edab-455b-ba8c-014655b084e6"
            },
            "attachments": {}
        },
        {
            "cell_type": "code",
            "source": [
                "INSERT INTO clientes (nombre, apellido, email, telefono) \n",
                "VALUES ('Ana', 'Rodríguez', 'arodriguez@example.com', '555-555-5555');\n"
            ],
            "metadata": {
                "azdata_cell_guid": "7cc41306-65c9-4dfa-b7c2-10c1d473100c",
                "language": "sql"
            },
            "outputs": [],
            "execution_count": null
        },
        {
            "cell_type": "markdown",
            "source": [
                "UPDATE: Actualizar precio de un producto.\n"
            ],
            "metadata": {
                "azdata_cell_guid": "0b13a9df-1e29-4db3-a57a-900fb134bd30"
            },
            "attachments": {}
        },
        {
            "cell_type": "code",
            "source": [
                "UPDATE productos \n",
                "SET precio = 1.50 \n",
                "WHERE nombre_producto = 'Leche';\n"
            ],
            "metadata": {
                "azdata_cell_guid": "04528f82-ce32-4d3f-82d6-fcc909bc5c1d",
                "language": "sql"
            },
            "outputs": [],
            "execution_count": null
        },
        {
            "cell_type": "markdown",
            "source": [
                "DELETE: Eliminar un cliente específico.\n"
            ],
            "metadata": {
                "azdata_cell_guid": "cd685270-4edc-4407-aea7-a5196533cb4d"
            },
            "attachments": {}
        },
        {
            "cell_type": "code",
            "source": [
                "DELETE FROM clientes \n",
                "WHERE cliente_id = 5;\n"
            ],
            "metadata": {
                "azdata_cell_guid": "26892b6b-72a8-4b1b-8797-760544d9639b",
                "language": "sql"
            },
            "outputs": [],
            "execution_count": null
        },
        {
            "cell_type": "markdown",
            "source": [
                "GRANT: Otorgar permisos de lectura a un usuario.\n"
            ],
            "metadata": {
                "azdata_cell_guid": "fc572d84-c78c-4b76-8232-4658ca7b1f8a"
            },
            "attachments": {}
        },
        {
            "cell_type": "code",
            "source": [
                "GRANT SELECT ON clientes TO usuario_lectura;\n"
            ],
            "metadata": {
                "azdata_cell_guid": "5bcf1128-0cba-4544-8b69-df3749606ab4",
                "language": "sql"
            },
            "outputs": [],
            "execution_count": null
        }
    ]
}