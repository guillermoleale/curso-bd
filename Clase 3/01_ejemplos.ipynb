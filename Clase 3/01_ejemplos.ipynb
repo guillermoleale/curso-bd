{
    "metadata": {
        "kernelspec": {
            "name": "SQL",
            "display_name": "SQL",
            "language": "sql"
        },
        "language_info": {
            "name": "sql",
            "version": ""
        }
    },
    "nbformat_minor": 2,
    "nbformat": 4,
    "cells": [
        {
            "cell_type": "markdown",
            "source": [
                "Contenido Detallado con Ejemplos\n"
            ],
            "metadata": {
                "azdata_cell_guid": "f6d09d54-b34e-45f0-91c6-03c9fd86c49b"
            },
            "attachments": {}
        },
        {
            "cell_type": "markdown",
            "source": [
                "1. SELECT Básico\n",
                "Consulta: Recuperar todos los clientes.\n",
                ""
            ],
            "metadata": {
                "azdata_cell_guid": "64f8d2e6-5a80-4fa8-a310-84175e4d946d"
            },
            "attachments": {}
        },
        {
            "cell_type": "code",
            "source": [
                "\n",
                "SELECT * \n",
                "FROM clientes;\n"
            ],
            "metadata": {
                "azdata_cell_guid": "3c9740f6-ff70-4abd-8a97-c109d33e678f",
                "language": "sql"
            },
            "outputs": [
{
    "output_type": "display_data",
    "data": {
        "text/html": "(100 row(s) affected)"
    },
    "metadata": {}
}, {
    "output_type": "display_data",
    "data": {
        "text/html": "Total execution time: 00:00:00.023"
    },
    "metadata": {}
}, {
    "output_type": "execute_result",
    "metadata": {},
    "execution_count": 1,
    "data": {
        "application/vnd.dataresource+json": {
            "schema": {
                "fields": [
                    {
                        "name": "cliente_id"
                    },
                    {
                        "name": "nombre"
                    },
                    {
                        "name": "apellido"
                    },
                    {
                        "name": "email"
                    },
                    {
                        "name": "telefono"
                    }
                ]
            },
            "data": [
                {
                    "cliente_id": "1",
                    "nombre": "Cliente_1",
                    "apellido": "Apellido_1",
                    "email": "cliente1@example.com",
                    "telefono": "123-456-0001"
                },
                {
                    "cliente_id": "2",
                    "nombre": "Cliente_2",
                    "apellido": "Apellido_2",
                    "email": "cliente2@example.com",
                    "telefono": "123-456-0002"
                },
                {
                    "cliente_id": "3",
                    "nombre": "Cliente_3",
                    "apellido": "Apellido_3",
                    "email": "cliente3@example.com",
                    "telefono": "123-456-0003"
                },
                {
                    "cliente_id": "4",
                    "nombre": "Cliente_4",
                    "apellido": "Apellido_4",
                    "email": "cliente4@example.com",
                    "telefono": "123-456-0004"
                },
                {
                    "cliente_id": "5",
                    "nombre": "Cliente_5",
                    "apellido": "Apellido_5",
                    "email": "cliente5@example.com",
                    "telefono": "123-456-0005"
                },
                {
                    "cliente_id": "6",
                    "nombre": "Cliente_6",
                    "apellido": "Apellido_6",
                    "email": "cliente6@example.com",
                    "telefono": "123-456-0006"
                },
                {
                    "cliente_id": "7",
                    "nombre": "Cliente_7",
                    "apellido": "Apellido_7",
                    "email": "cliente7@example.com",
                    "telefono": "123-456-0007"
                },
                {
                    "cliente_id": "8",
                    "nombre": "Cliente_8",
                    "apellido": "Apellido_8",
                    "email": "cliente8@example.com",
                    "telefono": "123-456-0008"
                },
                {
                    "cliente_id": "9",
                    "nombre": "Cliente_9",
                    "apellido": "Apellido_9",
                    "email": "cliente9@example.com",
                    "telefono": "123-456-0009"
                },
                {
                    "cliente_id": "10",
                    "nombre": "Cliente_10",
                    "apellido": "Apellido_10",
                    "email": "cliente10@example.com",
                    "telefono": "123-456-0010"
                },
                {
                    "cliente_id": "11",
                    "nombre": "Cliente_11",
                    "apellido": "Apellido_11",
                    "email": "cliente11@example.com",
                    "telefono": "123-456-0011"
                },
                {
                    "cliente_id": "12",
                    "nombre": "Cliente_12",
                    "apellido": "Apellido_12",
                    "email": "cliente12@example.com",
                    "telefono": "123-456-0012"
                },
                {
                    "cliente_id": "13",
                    "nombre": "Cliente_13",
                    "apellido": "Apellido_13",
                    "email": "cliente13@example.com",
                    "telefono": "123-456-0013"
                },
                {
                    "cliente_id": "14",
                    "nombre": "Cliente_14",
                    "apellido": "Apellido_14",
                    "email": "cliente14@example.com",
                    "telefono": "123-456-0014"
                },
                {
                    "cliente_id": "15",
                    "nombre": "Cliente_15",
                    "apellido": "Apellido_15",
                    "email": "cliente15@example.com",
                    "telefono": "123-456-0015"
                },
                {
                    "cliente_id": "16",
                    "nombre": "Cliente_16",
                    "apellido": "Apellido_16",
                    "email": "cliente16@example.com",
                    "telefono": "123-456-0016"
                },
                {
                    "cliente_id": "17",
                    "nombre": "Cliente_17",
                    "apellido": "Apellido_17",
                    "email": "cliente17@example.com",
                    "telefono": "123-456-0017"
                },
                {
                    "cliente_id": "18",
                    "nombre": "Cliente_18",
                    "apellido": "Apellido_18",
                    "email": "cliente18@example.com",
                    "telefono": "123-456-0018"
                },
                {
                    "cliente_id": "19",
                    "nombre": "Cliente_19",
                    "apellido": "Apellido_19",
                    "email": "cliente19@example.com",
                    "telefono": "123-456-0019"
                },
                {
                    "cliente_id": "20",
                    "nombre": "Cliente_20",
                    "apellido": "Apellido_20",
                    "email": "cliente20@example.com",
                    "telefono": "123-456-0020"
                },
                {
                    "cliente_id": "21",
                    "nombre": "Cliente_21",
                    "apellido": "Apellido_21",
                    "email": "cliente21@example.com",
                    "telefono": "123-456-0021"
                },
                {
                    "cliente_id": "22",
                    "nombre": "Cliente_22",
                    "apellido": "Apellido_22",
                    "email": "cliente22@example.com",
                    "telefono": "123-456-0022"
                },
                {
                    "cliente_id": "23",
                    "nombre": "Cliente_23",
                    "apellido": "Apellido_23",
                    "email": "cliente23@example.com",
                    "telefono": "123-456-0023"
                },
                {
                    "cliente_id": "24",
                    "nombre": "Cliente_24",
                    "apellido": "Apellido_24",
                    "email": "cliente24@example.com",
                    "telefono": "123-456-0024"
                },
                {
                    "cliente_id": "25",
                    "nombre": "Cliente_25",
                    "apellido": "Apellido_25",
                    "email": "cliente25@example.com",
                    "telefono": "123-456-0025"
                },
                {
                    "cliente_id": "26",
                    "nombre": "Cliente_26",
                    "apellido": "Apellido_26",
                    "email": "cliente26@example.com",
                    "telefono": "123-456-0026"
                },
                {
                    "cliente_id": "27",
