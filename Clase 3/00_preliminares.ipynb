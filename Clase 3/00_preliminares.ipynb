{
    "metadata": {
        "kernelspec": {
            "name": "SQL",
            "display_name": "SQL",
            "language": "sql"
        },
        "language_info": {
            "name": "sql",
            "version": ""
        }
    },
    "nbformat_minor": 2,
    "nbformat": 4,
    "cells": [
        {
            "cell_type": "markdown",
            "source": [
                "Crear tablas"
            ],
            "metadata": {
                "azdata_cell_guid": "b01fd48a-1843-4d0b-b244-74714882a2b3"
            },
            "attachments": {}
        },
        {
            "cell_type": "code",
            "source": [
                "DROP TABLE IF EXISTS  detalle_ventas;\n",
                "DROP TABLE IF EXISTS  ventas;\n",
                "DROP TABLE IF EXISTS  clientes;\n",
                "DROP TABLE IF EXISTS  productos;\n",
                "\n",
                ""
            ],
            "metadata": {
                "language": "sql",
                "azdata_cell_guid": "71d88615-5b84-40c8-a846-1c3b3dc7e081"
            },
            "outputs": [
                {
                    "output_type": "display_data",
                    "data": {
                        "text/html": "DROP TABLE"
                    },
                    "metadata": {}
                },
                {
                    "output_type": "display_data",
                    "data": {
                        "text/html": "DROP TABLE"
                    },
                    "metadata": {}
                },
                {
                    "output_type": "display_data",
                    "data": {
                        "text/html": "DROP TABLE"
                    },
                    "metadata": {}
                },
                {
                    "output_type": "display_data",
                    "data": {
                        "text/html": "DROP TABLE"
                    },
                    "metadata": {}
                },
                {
                    "output_type": "display_data",
                    "data": {
                        "text/html": "Total execution time: 00:00:00.143"
                    },
                    "metadata": {}
                }
            ],
            "execution_count": 10
        },
        {
            "cell_type": "code",
            "source": [
                "-- Crear tablas\n",
                "CREATE TABLE clientes (\n",
                "    cliente_id SERIAL PRIMARY KEY,\n",
                "    nombre VARCHAR(50),\n",
                "    apellido VARCHAR(50),\n",
                "    email VARCHAR(100) UNIQUE,\n",
                "    telefono VARCHAR(15)\n",
                ");\n",
                "\n",
                "CREATE TABLE productos (\n",
                "    producto_id SERIAL PRIMARY KEY,\n",
                "    nombre_producto VARCHAR(50),\n",
                "    categoria VARCHAR(30),\n",
                "    precio NUMERIC(10, 2)\n",
                ");\n",
                "\n",
                "CREATE TABLE ventas (\n",
                "    venta_id SERIAL PRIMARY KEY,\n",
                "    cliente_id INT REFERENCES clientes(cliente_id),\n",
                "    fecha DATE,\n",
                "    total NUMERIC(10, 2)\n",
                ");\n",
                "\n",
                "CREATE TABLE detalle_ventas (\n",
                "    detalle_id SERIAL PRIMARY KEY,\n",
                "    venta_id INT REFERENCES ventas(venta_id),\n",
                "    producto_id INT REFERENCES productos(producto_id),\n",
                "    cantidad INT,\n",
                "    subtotal NUMERIC(10, 2)\n",
                ");"
            ],
            "metadata": {
                "azdata_cell_guid": "923a48c6-ea1d-48f9-9bb3-149b23de0702",
                "language": "sql"
            },
            "outputs": [
                {
                    "output_type": "display_data",
                    "data": {
                        "text/html": "CREATE TABLE"
                    },
                    "metadata": {}
                },
                {
                    "output_type": "display_data",
                    "data": {
                        "text/html": "CREATE TABLE"
                    },
                    "metadata": {}
                },
                {
                    "output_type": "display_data",
                    "data": {
                        "text/html": "CREATE TABLE"
                    },
                    "metadata": {}
                },
                {
                    "output_type": "display_data",
                    "data": {
                        "text/html": "CREATE TABLE"
                    },
                    "metadata": {}
                },
                {
                    "output_type": "display_data",
                    "data": {
                        "text/html": "Total execution time: 00:00:00.027"
                    },
                    "metadata": {}
                }
            ],
            "execution_count": 11
        },
        {
            "cell_type": "markdown",
            "source": [
                "Popular tablas"
            ],
            "metadata": {
                "azdata_cell_guid": "b85edef4-c2f7-47b3-a2fa-b180b2bea2ae"
            },
            "attachments": {}
        },
        {
            "cell_type": "code",
            "source": [
                "-- Fijar semilla aleatoria\n",
                "SELECT setseed(0.5);\n",
                "\n",
                "-- Insertar clientes\n",
                "INSERT INTO clientes (nombre, apellido, email, telefono)\n",
                "SELECT \n",
                "    'Cliente_' || id AS nombre,\n",
                "    'Apellido_' || id AS apellido,\n",
                "    'cliente' || id || '@example.com' AS email,\n",
                "    '123-456-' || LPAD(id::TEXT, 4, '0') AS telefono\n",
                "FROM generate_series(1, 100) AS id;\n",
                "\n",
                "-- Insertar productos\n",
                "INSERT INTO productos (nombre_producto, categoria, precio)\n",
                "SELECT \n",
                "    'Producto_' || id AS nombre_producto,\n",
                "    CASE (id % 4) + 1\n",
                "        WHEN 1 THEN 'Lácteos'\n",
                "        WHEN 2 THEN 'Carnicería'\n",
                "        WHEN 3 THEN 'Frutas'\n",
                "        WHEN 4 THEN 'Panadería'\n",
                "    END AS categoria,\n",
                "    ROUND((RANDOM() * 20 + 1)::NUMERIC, 2) AS precio\n",
                "FROM generate_series(1, 100) AS id;\n",
                "\n",
                "-- Insertar ventas\n",
                "-- Siempre asignar un cliente para evitar ventas sin cliente\n",
                "INSERT INTO ventas (cliente_id, fecha, total)\n",
                "SELECT \n",
                "    c.cliente_id,\n",
                "    CURRENT_DATE - (RANDOM() * 30)::INT AS fecha,\n",
                "    ROUND((RANDOM() * 200 + 10)::NUMERIC, 2) AS total\n",
                "FROM generate_series(1, 100) AS g\n",
                "CROSS JOIN (\n",
                "    SELECT cliente_id \n",
                "    FROM clientes\n",
                ") c\n",
                "ORDER BY RANDOM()\n",
                "LIMIT 100;"
            ],
            "metadata": {
                "azdata_cell_guid": "5d2dffcc-482e-49eb-8289-90e966d38f32",
                "language": "sql",
                "tags": []
            },
            "outputs": [
                {
                    "output_type": "display_data",
                    "data": {
                        "text/html": "(1 row(s) affected)"
                    },
                    "metadata": {}
                },
                {
                    "output_type": "display_data",
                    "data": {
                        "text/html": "INSERT 0 100"
                    },
                    "metadata": {}
                },
                {
                    "output_type": "display_data",
                    "data": {
                        "text/html": "INSERT 0 100"
                    },
                    "metadata": {}
                },
                {
                    "output_type": "display_data",
                    "data": {
                        "text/html": "INSERT 0 100"
                    },
                    "metadata": {}
                },
                {
                    "output_type": "display_data",
                    "data": {
                        "text/html": "Total execution time: 00:00:00.029"
                    },
                    "metadata": {}
                },
                {
                    "output_type": "execute_result",
                    "metadata": {},
                    "execution_count": 12,
                    "data": {
                        "application/vnd.dataresource+json": {
                            "schema": {
                                "fields": [
                                    {
                                        "name": "setseed"
                                    }
                                ]
                            },
                            "data": [
                                {
                                    "setseed": ""
                                }
                            ]
                        },
                        "text/html": [
                            "<table>",
                            "<tr><th>setseed</th></tr>",
                            "<tr><td></td></tr>",
                            "</table>"
                        ]
                    }
                }
            ],
            "execution_count": 12
        }
    ]
}