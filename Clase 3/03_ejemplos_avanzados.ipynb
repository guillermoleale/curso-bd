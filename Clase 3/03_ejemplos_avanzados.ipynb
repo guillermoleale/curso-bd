{
    "metadata": {
        "kernelspec": {
            "name": "SQL",
            "display_name": "SQL",
            "language": "sql"
        },
        "language_info": {
            "name": "sql",
            "version": ""
        }
    },
    "nbformat_minor": 2,
    "nbformat": 4,
    "cells": [
        {
            "cell_type": "markdown",
            "source": [
                "Ejercicios SQL de Mayor Complejidad\n",
                "\n",
                "Estos ejercicios requieren combinar conceptos avanzados como subconsultas, joins múltiples, funciones de agregación avanzadas y cláusulas anidadas para resolver problemas más complejos.\n"
            ],
            "metadata": {
                "azdata_cell_guid": "69f7ad87-aa33-4019-97d5-0ecf2042e442"
            },
            "attachments": {}
        },
        {
            "cell_type": "markdown",
            "source": [
                "\n",
                "1. Encontrar los 3 clientes que más dinero han gastado en el supermercado\n",
                "\n",
                "Objetivo: Obtener los clientes con el mayor total acumulado de compras, ordenado de mayor a menor, mostrando únicamente los 3 primeros registros.\n"
            ],
            "metadata": {
                "azdata_cell_guid": "7d56046b-968a-4b15-8c2e-44bf63ee176b"
            },
            "attachments": {}
        },
        {
            "cell_type": "code",
            "source": [
                "SELECT c.cliente_id, c.nombre, c.apellido, SUM(v.total) AS total_gastado\n",
                "FROM clientes c\n",
                "JOIN ventas v ON c.cliente_id = v.cliente_id\n",
                "GROUP BY c.cliente_id, c.nombre, c.apellido\n",
                "ORDER BY total_gastado DESC\n",
                "LIMIT 3;\n"
            ],
            "metadata": {
                "azdata_cell_guid": "a4c518c4-e610-49df-808f-f3d0c6c32435",
                "language": ""
            },
            "outputs": [],
            "execution_count": null
        },
        {
            "cell_type": "markdown",
            "source": [
                "2. Identificar los productos más vendidos en cantidad y en valor total\n",
                "\n",
                "Objetivo: Mostrar los productos más vendidos considerando dos criterios:\n",
                "\t1.\tCantidad total vendida (sumar cantidad).\n",
                "\t2.\tValor total generado (sumar subtotal).\n"
            ],
            "metadata": {
                "azdata_cell_guid": "96aa7f41-f02c-4ecd-b697-fe142c17bfa8"
            },
            "attachments": {}
        },
        {
            "cell_type": "code",
            "source": [
                "SELECT p.producto_id, p.nombre_producto, \n",
                "       SUM(dv.cantidad) AS cantidad_total, \n",
                "       SUM(dv.subtotal) AS valor_total\n",
                "FROM productos p\n",
                "JOIN detalle_ventas dv ON p.producto_id = dv.producto_id\n",
                "GROUP BY p.producto_id, p.nombre_producto\n",
                "ORDER BY cantidad_total DESC, valor_total DESC;\n"
            ],
            "metadata": {
                "azdata_cell_guid": "4b37fd13-8bd1-4422-97a3-1f44e5e6f05c",
                "language": ""
            },
            "outputs": [],
            "execution_count": null
        },
        {
            "cell_type": "markdown",
            "source": [
                "3. Obtener los clientes que no han realizado ninguna compra\n",
                "\n",
                "Objetivo: Listar los clientes que no tienen ventas registradas en la tabla ventas. Usar un LEFT JOIN y filtrar con IS NULL.\n"
            ],
            "metadata": {
                "azdata_cell_guid": "2e9f9274-7c5a-4994-b9e4-fb3f5a629d0d"
            },
            "attachments": {}
        },
        {
            "cell_type": "code",
            "source": [
                "SELECT c.cliente_id, c.nombre, c.apellido\n",
                "FROM clientes c\n",
                "LEFT JOIN ventas v ON c.cliente_id = v.cliente_id\n",
                "WHERE v.venta_id IS NULL;\n"
            ],
            "metadata": {
                "azdata_cell_guid": "fa795c47-532c-4f56-aabd-7a23b2bbeafb",
                "language": ""
            },
            "outputs": [],
            "execution_count": null
        },
        {
            "cell_type": "markdown",
            "source": [
                "4. Calcular el total de ventas por cada día, incluyendo solo los días con más de $500 en ventas\n",
                "\n",
                "Objetivo: Obtener un resumen diario de las ventas, filtrando únicamente los días en los que el total acumulado de ventas supera los 500.\n"
            ],
            "metadata": {
                "azdata_cell_guid": "d06e88c7-a9d1-412a-a9fd-a417cc1dd07f"
            },
            "attachments": {}
        },
        {
            "cell_type": "code",
            "source": [
                "SELECT fecha, SUM(total) AS total_diario\n",
                "FROM ventas\n",
                "GROUP BY fecha\n",
                "HAVING SUM(total) > 500\n",
                "ORDER BY total_diario DESC;\n"
            ],
            "metadata": {
                "azdata_cell_guid": "3c2dc7b1-9f0e-4b33-a0a5-480e3e5b2f28",
                "language": ""
            },
            "outputs": [],
            "execution_count": null
        },
        {
            "cell_type": "markdown",
            "source": [
                "5. Encontrar los productos que nunca han sido vendidos\n",
                "\n",
                "Objetivo: Mostrar todos los productos que no aparecen en ninguna venta registrada en la tabla detalle_ventas.\n"
            ],
            "metadata": {
                "azdata_cell_guid": "7b5e3b91-2601-454e-95fe-ebb851b661b0"
            },
            "attachments": {}
        },
        {
            "cell_type": "code",
            "source": [
                "SELECT p.producto_id, p.nombre_producto, p.categoria\n",
                "FROM productos p\n",
                "LEFT JOIN detalle_ventas dv ON p.producto_id = dv.producto_id\n",
                "WHERE dv.detalle_id IS NULL;\n"
            ],
            "metadata": {
                "azdata_cell_guid": "c7272bc5-6a1f-4510-98f4-6acc662516b3",
                "language": ""
            },
            "outputs": [],
            "execution_count": null
        }
    ]
}