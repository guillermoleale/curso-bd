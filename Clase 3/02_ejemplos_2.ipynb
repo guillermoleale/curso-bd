{
    "metadata": {
        "kernelspec": {
            "name": "SQL",
            "display_name": "SQL",
            "language": "sql"
        },
        "language_info": {
            "name": "sql",
            "version": ""
        }
    },
    "nbformat_minor": 2,
    "nbformat": 4,
    "cells": [
        {
            "cell_type": "markdown",
            "source": [
                "Ejercicios de SQL para Clase\n",
                "\n",
                "\n",
                "Ejercicios de SELECT y WHERE\n",
                "\t1.\tRecuperar todos los registros de la tabla clientes.\n"
            ],
            "metadata": {
                "azdata_cell_guid": "815d3641-1cd9-4546-ae41-860802a3e251"
            },
            "attachments": {}
        },
        {
            "cell_type": "code",
            "source": [
                "SELECT * FROM clientes;\n"
            ],
            "metadata": {
                "azdata_cell_guid": "cd39ea23-44e0-496e-87c6-92a23d298072",
                "language": ""
            },
            "outputs": [],
            "execution_count": null
        },
        {
            "cell_type": "markdown",
            "source": [
                "\n",
                "\t2.\tMostrar solo el nombre, apellido y email de todos los clientes.\n"
            ],
            "metadata": {
                "azdata_cell_guid": "ae06234f-2efe-4135-b28c-d0419193c653",
                "language": ""
            },
            "attachments": {}
        },
        {
            "cell_type": "code",
            "source": [
                "SELECT nombre, apellido, email \n",
                "FROM clientes;\n",
                "\n"
            ],
            "metadata": {
                "azdata_cell_guid": "25fcdf95-41b9-4a74-913e-52294e6c7fc9",
                "language": ""
            },
            "outputs": [],
            "execution_count": null
        },
        {
            "cell_type": "markdown",
            "source": [
                "\t3.\tListar los productos de la categoría ‘Lácteos’.\n"
            ],
            "metadata": {
                "azdata_cell_guid": "d8010eb0-8ea6-4eef-95ed-5f7d503bd5f2"
            },
            "attachments": {}
        },
        {
            "cell_type": "code",
            "source": [
                "SELECT * \n",
                "FROM productos \n",
                "WHERE categoria = 'Lácteos';\n"
            ],
            "metadata": {
                "azdata_cell_guid": "677ea18a-6a30-4a91-9993-beaa19bf1cb1",
                "language": ""
            },
            "outputs": [],
            "execution_count": null
        },
        {
            "cell_type": "markdown",
            "source": [
                "\n",
                "\t4.\tMostrar los productos cuyo precio sea mayor a 10.\n"
            ],
            "metadata": {
                "azdata_cell_guid": "2335ac91-5805-449e-a929-f4a6b90558a8"
            },
            "attachments": {}
        },
        {
            "cell_type": "code",
            "source": [
                "SELECT * \n",
                "FROM productos \n",
                "WHERE precio > 10;\n"
            ],
            "metadata": {
                "azdata_cell_guid": "dfc5c22f-a6a5-4576-961b-86ca1e1fa8e9",
                "language": ""
            },
            "outputs": [],
            "execution_count": null
        },
        {
            "cell_type": "markdown",
            "source": [
                "\n",
                "\t5.\tObtener todas las ventas realizadas en los últimos 7 días.\n"
            ],
            "metadata": {
                "azdata_cell_guid": "029e3cd0-451f-4002-8f4a-6055933538ff"
            },
            "attachments": {}
        },
        {
            "cell_type": "code",
            "source": [
                "SELECT * \n",
                "FROM ventas \n",
                "WHERE fecha >= CURRENT_DATE - 7;\n",
                "\n"
            ],
            "metadata": {
                "azdata_cell_guid": "1d750a79-aae9-4915-a851-138e2fad52db",
                "language": ""
            },
            "outputs": [],
            "execution_count": null
        },
        {
            "cell_type": "markdown",
            "source": [
                "\t6.\tListar los clientes cuyo email contenga ‘example’.\n"
            ],
            "metadata": {
                "azdata_cell_guid": "90527cee-2763-497d-8c5a-259e7c78aa33"
            },
            "attachments": {}
        },
        {
            "cell_type": "code",
            "source": [
                "SELECT * \n",
                "FROM clientes \n",
                "WHERE email LIKE '%example%';\n"
            ],
            "metadata": {
                "azdata_cell_guid": "f748dbb6-227b-4898-9982-19353576d32e",
                "language": ""
            },
            "outputs": [],
            "execution_count": null
        },
        {
            "cell_type": "markdown",
            "source": [
                "\n",
                "\t7.\tMostrar las ventas cuyo total sea entre 50 y 100.\n"
            ],
            "metadata": {
                "azdata_cell_guid": "8f14fdd8-0204-4f0c-8e28-841a28ee0342"
            },
            "attachments": {}
        },
        {
            "cell_type": "code",
            "source": [
                "SELECT * \n",
                "FROM ventas \n",
                "WHERE total BETWEEN 50 AND 100;\n"
            ],
            "metadata": {
                "azdata_cell_guid": "b3640f15-1f48-45af-8755-37889981a983",
                "language": ""
            },
            "outputs": [],
            "execution_count": null
        },
        {
            "cell_type": "markdown",
            "source": [
                "Ejercicios con JOIN\n",
                "\n",
                "8.\tObtener los nombres de los clientes y la fecha de las ventas realizadas.\n",
                ""
            ],
            "metadata": {
                "azdata_cell_guid": "bcf368f3-683e-4882-ad91-bc48356a5f32"
            },
            "attachments": {}
        },
        {
            "cell_type": "code",
            "source": [
                "SELECT c.nombre, c.apellido, v.fecha, v.total\n",
                "FROM clientes c\n",
                "JOIN ventas v ON c.cliente_id = v.cliente_id;\n",
                "\n"
            ],
            "metadata": {
                "azdata_cell_guid": "b556445b-aa0e-4712-bec1-d8dbedfd3fa6",
                "language": ""
            },
            "outputs": [],
            "execution_count": null
        },
        {
            "cell_type": "markdown",
            "source": [
                "\t9.\tListar los productos vendidos con su cantidad y subtotal en cada venta.\n"
            ],
            "metadata": {
                "azdata_cell_guid": "1b8e60a2-00b3-46f7-986a-1474534c4b29"
            },
            "attachments": {}
        },
        {
            "cell_type": "code",
            "source": [
                "SELECT p.nombre_producto, dv.cantidad, dv.subtotal\n",
                "FROM detalle_ventas dv\n",
                "JOIN productos p ON dv.producto_id = p.producto_id;\n"
            ],
            "metadata": {
                "azdata_cell_guid": "973e1814-9ca0-4bfc-9446-53af11e66c8d",
                "language": ""
            },
            "outputs": [],
            "execution_count": null
        },
        {
            "cell_type": "markdown",
            "source": [
                "\n",
                "\t10.\tMostrar todas las ventas junto con la información del cliente que las realizó.\n"
            ],
            "metadata": {
                "azdata_cell_guid": "fd938ab3-7646-4eae-aec7-32c3cb45ecc9"
            },
            "attachments": {}
        },
        {
            "cell_type": "code",
            "source": [
                "SELECT v.venta_id, c.nombre, c.apellido, v.fecha, v.total\n",
                "FROM ventas v\n",
                "JOIN clientes c ON v.cliente_id = c.cliente_id;\n"
            ],
            "metadata": {
                "azdata_cell_guid": "00140c2f-0527-4e51-b22f-f981088a630d",
                "language": ""
            },
            "outputs": [],
            "execution_count": null
        },
        {
            "cell_type": "markdown",
            "source": [
                "\n",
                "\t11.\tListar los productos vendidos junto con las ventas correspondientes.\n"
            ],
            "metadata": {
                "azdata_cell_guid": "51e46a31-38a0-4fbb-8b5b-92025ccfadb0"
            },
            "attachments": {}
        },
        {
            "cell_type": "code",
            "source": [
                "SELECT v.venta_id, p.nombre_producto, dv.cantidad, dv.subtotal\n",
                "FROM ventas v\n",
                "JOIN detalle_ventas dv ON v.venta_id = dv.venta_id\n",
                "JOIN productos p ON dv.producto_id = p.producto_id;\n",
                "\n"
            ],
            "metadata": {
                "azdata_cell_guid": "67b7656c-63c9-4be6-98db-6f4aaef2b622",
                "language": ""
            },
            "outputs": [],
            "execution_count": null
        },
        {
            "cell_type": "markdown",
            "source": [
                "\t12.\tMostrar las ventas y los productos que no tienen detalles asociados (LEFT JOIN).\n"
            ],
            "metadata": {
                "azdata_cell_guid": "506f7d04-b3e6-4a0d-964c-25695e5b141f"
            },
            "attachments": {}
        },
        {
            "cell_type": "code",
            "source": [
                "SELECT v.venta_id, p.nombre_producto, dv.cantidad\n",
                "FROM ventas v\n",
                "LEFT JOIN detalle_ventas dv ON v.venta_id = dv.venta_id\n",
                "LEFT JOIN productos p ON dv.producto_id = p.producto_id;\n"
            ],
            "metadata": {
                "azdata_cell_guid": "b9438447-466c-4aee-bed2-6e9cd11cf66e",
                "language": ""
            },
            "outputs": [],
            "execution_count": null
        },
        {
            "cell_type": "markdown",
            "source": [
                "Ejercicios con GROUP BY y Funciones de Agregación\n",
                "\t\n",
                "\t13.\tContar cuántos clientes hay en la tabla.\n"
            ],
            "metadata": {
                "azdata_cell_guid": "e3b9ff92-6ea9-4e36-9dad-5c9d85fc9617"
            },
            "attachments": {}
        },
        {
            "cell_type": "code",
            "source": [
                "SELECT COUNT(*) AS total_clientes\n",
                "FROM clientes;\n"
            ],
            "metadata": {
                "azdata_cell_guid": "addeef8f-1350-4df9-9e0c-08993a7d0191",
                "language": ""
            },
            "outputs": [],
            "execution_count": null
        },
        {
            "cell_type": "markdown",
            "source": [
                "\n",
                "\t14.\tCalcular el total de ventas realizadas en el supermercado.\n"
            ],
            "metadata": {
                "azdata_cell_guid": "7441f4bb-ef2c-4978-a774-9e3d7a049683"
            },
            "attachments": {}
        },
        {
            "cell_type": "code",
            "source": [
                "SELECT SUM(total) AS total_ventas\n",
                "FROM ventas;\n"
            ],
            "metadata": {
                "azdata_cell_guid": "08c6d380-2cd1-4220-b8dd-579ebe9faab7",
                "language": ""
            },
            "outputs": [],
            "execution_count": null
        },
        {
            "cell_type": "markdown",
            "source": [
                "\n",
                "\t15.\tMostrar la cantidad de productos por cada categoría.\n"
            ],
            "metadata": {
                "azdata_cell_guid": "4c9a442a-8e0c-4291-94b8-ebb7774c03d7"
            },
            "attachments": {}
        },
        {
            "cell_type": "code",
            "source": [
                "SELECT categoria, COUNT(*) AS cantidad_productos\n",
                "FROM productos\n",
                "GROUP BY categoria;\n"
            ],
            "metadata": {
                "azdata_cell_guid": "58f7855c-f958-4e2a-a487-71a05dc5015c",
                "language": ""
            },
            "outputs": [],
            "execution_count": null
        },
        {
            "cell_type": "markdown",
            "source": [
                "\n",
                "\t16.\tObtener el cliente que realizó la mayor cantidad de ventas.\n"
            ],
            "metadata": {
                "azdata_cell_guid": "e4781193-907b-4a3c-a4fa-685a9cfbfbb0"
            },
            "attachments": {}
        },
        {
            "cell_type": "code",
            "source": [
                "SELECT c.nombre, c.apellido, COUNT(v.venta_id) AS cantidad_ventas\n",
                "FROM clientes c\n",
                "JOIN ventas v ON c.cliente_id = v.cliente_id\n",
                "GROUP BY c.nombre, c.apellido\n",
                "ORDER BY cantidad_ventas DESC\n",
                "LIMIT 1;\n",
                "\n"
            ],
            "metadata": {
                "azdata_cell_guid": "5eb5fcf1-9e76-4ff8-96da-0116fb7c65cc",
                "language": ""
            },
            "outputs": [],
            "execution_count": null
        },
        {
            "cell_type": "markdown",
            "source": [
                "\t17.\tMostrar el promedio de precios por cada categoría de productos.\n"
            ],
            "metadata": {
                "azdata_cell_guid": "cb05f286-927c-40d2-b060-1cb00d208674"
            },
            "attachments": {}
        },
        {
            "cell_type": "code",
            "source": [
                "SELECT categoria, AVG(precio) AS precio_promedio\n",
                "FROM productos\n",
                "GROUP BY categoria;\n"
            ],
            "metadata": {
                "azdata_cell_guid": "2887c9ab-c995-4e66-b0d6-cd5406eb74e1",
                "language": ""
            },
            "outputs": [],
            "execution_count": null
        },
        {
            "cell_type": "markdown",
            "source": [
                "\n",
                "\t18.\tCalcular el total de ventas por día.\n"
            ],
            "metadata": {
                "azdata_cell_guid": "5ecf8917-6c7b-440f-ad97-3fdc6c2ef854"
            },
            "attachments": {}
        },
        {
            "cell_type": "code",
            "source": [
                "SELECT fecha, SUM(total) AS total_diario\n",
                "FROM ventas\n",
                "GROUP BY fecha\n",
                "ORDER BY fecha;\n"
            ],
            "metadata": {
                "azdata_cell_guid": "7833604a-40d2-4471-8f4e-92e0bb1b8c3a",
                "language": ""
            },
            "outputs": [],
            "execution_count": null
        },
        {
            "cell_type": "markdown",
            "source": [
                "\n",
                "\t19.\tMostrar los productos más vendidos en cantidad total.\n",
                ""
            ],
            "metadata": {
                "azdata_cell_guid": "d42e9bb4-50fb-4350-841b-8ddeb8475be9",
                "language": ""
            },
            "attachments": {}
        },
        {
            "cell_type": "code",
            "source": [
                "SELECT p.nombre_producto, SUM(dv.cantidad) AS cantidad_total\n",
                "FROM productos p\n",
                "JOIN detalle_ventas dv ON p.producto_id = dv.producto_id\n",
                "GROUP BY p.nombre_producto\n",
                "ORDER BY cantidad_total DESC\n",
                "LIMIT 5;\n"
            ],
            "metadata": {
                "azdata_cell_guid": "d0be9a9d-ff13-4b01-98d1-dfa517665d2c",
                "language": ""
            },
            "outputs": [],
            "execution_count": null
        },
        {
            "cell_type": "markdown",
            "source": [
                "\n",
                "\t20.\tCalcular el total de ventas por cliente.\n"
            ],
            "metadata": {
                "azdata_cell_guid": "bdc46f37-d8be-4605-aa04-b05fb7cbbdc8",
                "language": ""
            },
            "attachments": {}
        },
        {
            "cell_type": "code",
            "source": [
                "SELECT c.nombre, c.apellido, SUM(v.total) AS total_compras\n",
                "FROM clientes c\n",
                "JOIN ventas v ON c.cliente_id = v.cliente_id\n",
                "GROUP BY c.nombre, c.apellido\n",
                "ORDER BY total_compras DESC;\n"
            ],
            "metadata": {
                "azdata_cell_guid": "682152c9-69c4-4363-99e6-1c2c3a36211b",
                "language": ""
            },
            "outputs": [],
            "execution_count": null
        }
    ]
}