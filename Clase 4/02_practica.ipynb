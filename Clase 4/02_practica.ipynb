{
    "metadata": {
        "kernelspec": {
            "name": "SQL",
            "display_name": "SQL",
            "language": "sql"
        },
        "language_info": {
            "name": "sql",
            "version": ""
        }
    },
    "nbformat_minor": 2,
    "nbformat": 4,
    "cells": [
        {
            "cell_type": "markdown",
            "source": [
                "**Tareas para Grupos**\n",
                "\n",
                "  \n",
                "\n",
                "  \n",
                "\n",
                "**Grupo 1**\n",
                "\n",
                "1. Crear una vista que calcule el total de ventas por cliente y listar los clientes con un total de ventas superior a $30.\n",
                "\n",
                "2. Listar los productos que no se han vendido en ninguna venta.\n",
                "\n",
                "3. Identificar los clientes con más de 3 ventas realizadas y listar sus nombres junto con la cantidad total de ventas.\n",
                "\n",
                "  \n",
                "\n",
                "**Grupo 2**\n",
                "\n",
                "1. Crear una vista para listar las categorías con el total acumulado de precios de los productos en cada categoría.\n",
                "\n",
                "2. Listar los clientes que tienen ventas realizadas en los últimos 15 días.\n",
                "\n",
                "3. Identificar los días con más de 5 ventas realizadas y listar la cantidad total de ventas por día.\n",
                "\n",
                "  \n",
                "\n",
                "**Grupo 3**\n",
                "\n",
                "1. Crear una vista que muestre los productos cuyo precio es mayor al promedio de todos los productos.\n",
                "\n",
                "2. Listar los clientes con al menos una compra mayor a $20, junto con la fecha de su última compra.\n",
                "\n",
                "3. Identificar los productos que han sido vendidos más de 5 veces, mostrando su nombre, cantidad total vendida y valor total generado.\n",
                "\n",
                "  \n",
                "\n",
                "**Grupo 4**\n",
                "\n",
                "1. Crear una vista para listar los productos más caros por categoría.\n",
                "\n",
                "2. Listar los clientes que no tienen un correo electrónico registrado en la base de datos.\n",
                "\n",
                "3. Identificar los días con ventas totales superiores a $25 y listar esos días junto con la suma total de las ventas.\n",
                "\n",
                "  \n",
                "\n",
                "**Grupo 5**\n",
                "\n",
                "1. Crear una vista que calcule el promedio del total de ventas por cliente.\n",
                "\n",
                "2. Listar los productos vendidos en cantidades entre 3 y 5 unidades, junto con su subtotal total.\n",
                "\n",
                "3. Identificar los clientes cuyos nombres terminen con la letra ‘Z’ y listar todas sus ventas."
            ],
            "metadata": {
                "azdata_cell_guid": "9adabe42-a585-4a32-8426-00daac5cdc09"
            },
            "attachments": {}
        }
    ]
}