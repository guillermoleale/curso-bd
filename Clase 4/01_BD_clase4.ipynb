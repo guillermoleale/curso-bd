{
    "cells": [
        {
            "attachments": {},
            "cell_type": "markdown",
            "metadata": {
                "azdata_cell_guid": "c869a169-18a9-43ad-9f01-b03a55f2098d"
            },
            "source": [
                "# **Objetivos de la Clase**\n",
                "\n",
                "**Objetivos:**\n",
                "\n",
                "• Comprender el uso de consultas avanzadas: JOIN y subconsultas.\n",
                "\n",
                "• Aprender a utilizar funciones agregadas para análisis de datos.\n",
                "\n",
                "• Conocer y aplicar vistas para simplificar y optimizar consultas.\n",
                "\n",
                "• Introducir vistas materializadas y sus diferencias con vistas regulares."
            ]
        },
        {
            "attachments": {},
            "cell_type": "markdown",
            "metadata": {
                "azdata_cell_guid": "e0b2c2fa-7d52-45e5-832a-aa08792af147"
            },
            "source": [
                "# **Repaso: JOINs** \n",
                "\n",
                "**Concepto:**\n",
                "\n",
                "Un <span class=\"s1\" style=\"font-variant-numeric: normal; font-variant-east-asian: normal; font-variant-alternates: normal; font-kerning: auto; font-optical-sizing: auto; font-feature-settings: normal; font-variation-settings: normal; font-stretch: normal; line-height: normal; font-family: &quot;.AppleSystemUIFontMonospaced&quot;;\">JOIN</span> combina filas de dos o más tablas basándose en una relación lógica entre ellas.\n",
                "\n",
                "**Tipos de JOINs:**\n",
                "\n",
                "• <span class=\"s1\" style=\"font-variant-numeric: normal; font-variant-east-asian: normal; font-variant-alternates: normal; font-kerning: auto; font-optical-sizing: auto; font-feature-settings: normal; font-variation-settings: normal; font-stretch: normal; line-height: normal; font-family: &quot;.AppleSystemUIFontMonospaced&quot;;\">INNER JOIN</span>: Coincidencias en ambas tablas.\n",
                "\n",
                "• <span class=\"s1\" style=\"font-variant-numeric: normal; font-variant-east-asian: normal; font-variant-alternates: normal; font-kerning: auto; font-optical-sizing: auto; font-feature-settings: normal; font-variation-settings: normal; font-stretch: normal; line-height: normal; font-family: &quot;.AppleSystemUIFontMonospaced&quot;;\">LEFT JOIN</span>: Todas las filas de la tabla izquierda y las coincidentes de la derecha.\n",
                "\n",
                "• <span class=\"s1\" style=\"font-variant-numeric: normal; font-variant-east-asian: normal; font-variant-alternates: normal; font-kerning: auto; font-optical-sizing: auto; font-feature-settings: normal; font-variation-settings: normal; font-stretch: normal; line-height: normal; font-family: &quot;.AppleSystemUIFontMonospaced&quot;;\">RIGHT JOIN</span>: Todas las filas de la tabla derecha y las coincidentes de la izquierda."
            ]
        },
        {
            "cell_type": "code",
            "execution_count": null,
            "metadata": {
                "azdata_cell_guid": "22296ce3-38f0-4bf4-819c-91e68b1612bc",
                "language": "sql"
            },
            "outputs": [],
            "source": [
                "SELECT c.nombre, v.fecha, v.total\n",
                "FROM clientes c\n",
                "INNER JOIN ventas v ON c.cliente_id = v.cliente_id;"
            ]
        },
        {
            "attachments": {},
            "cell_type": "markdown",
            "metadata": {
                "azdata_cell_guid": "ffdbf26a-6ea3-4092-b992-760c1b0f7abf"
            },
            "source": [
                "# **Funciones Agregadas**\n",
                "\n",
                "**Definición:**\n",
                "\n",
                "Las funciones agregadas operan sobre un conjunto de valores y devuelven un único valor.\n",
                "\n",
                "**Funciones Clave:**\n",
                "\n",
                "• <span class=\"s1\" style=\"font-variant-numeric: normal; font-variant-east-asian: normal; font-variant-alternates: normal; font-kerning: auto; font-optical-sizing: auto; font-feature-settings: normal; font-variation-settings: normal; font-stretch: normal; line-height: normal; font-family: &quot;.AppleSystemUIFontMonospaced&quot;;\">COUNT</span>: Contar filas.\n",
                "\n",
                "• <span class=\"s1\" style=\"font-variant-numeric: normal; font-variant-east-asian: normal; font-variant-alternates: normal; font-kerning: auto; font-optical-sizing: auto; font-feature-settings: normal; font-variation-settings: normal; font-stretch: normal; line-height: normal; font-family: &quot;.AppleSystemUIFontMonospaced&quot;;\">SUM</span>: Sumar valores.\n",
                "\n",
                "• <span class=\"s1\" style=\"font-variant-numeric: normal; font-variant-east-asian: normal; font-variant-alternates: normal; font-kerning: auto; font-optical-sizing: auto; font-feature-settings: normal; font-variation-settings: normal; font-stretch: normal; line-height: normal; font-family: &quot;.AppleSystemUIFontMonospaced&quot;;\">AVG</span>: Calcular promedios.\n",
                "\n",
                "• <span class=\"s1\" style=\"font-variant-numeric: normal; font-variant-east-asian: normal; font-variant-alternates: normal; font-kerning: auto; font-optical-sizing: auto; font-feature-settings: normal; font-variation-settings: normal; font-stretch: normal; line-height: normal; font-family: &quot;.AppleSystemUIFontMonospaced&quot;;\">MIN</span> y <span class=\"s1\" style=\"font-variant-numeric: normal; font-variant-east-asian: normal; font-variant-alternates: normal; font-kerning: auto; font-optical-sizing: auto; font-feature-settings: normal; font-variation-settings: normal; font-stretch: normal; line-height: normal; font-family: &quot;.AppleSystemUIFontMonospaced&quot;;\">MAX</span>: Encontrar valores mínimos y máximos."
            ]
        },
        {
            "cell_type": "code",
            "execution_count": null,
            "metadata": {
                "azdata_cell_guid": "443d5844-ab72-4586-8238-3b385fe9fce4",
                "language": "sql"
            },
            "outputs": [],
            "source": [
                "SELECT SUM(total) AS ingresos_totales\n",
                "FROM ventas;"
            ]
        },
        {
            "attachments": {},
            "cell_type": "markdown",
            "metadata": {
                "azdata_cell_guid": "93ac729c-6b88-4ff7-9baa-17a9455470e4",
                "language": "",
                "tags": []
            },
            "source": [
                "1\\. Ejemplo de COUNT"
            ]
        },
        {
            "cell_type": "code",
            "execution_count": null,
            "metadata": {
                "azdata_cell_guid": "7bf46d3b-cba3-4d6f-aa43-460121d2575f",
                "language": "sql"
            },
            "outputs": [],
            "source": [
                "-- Ejemplo A: Contar la cantidad total de clientes registrados.\n",
                "SELECT COUNT(*) AS total_clientes\n",
                "FROM clientes;"
            ]
        },
        {
            "cell_type": "code",
            "execution_count": null,
            "metadata": {
                "azdata_cell_guid": "2b58bb2b-5eea-434c-87c3-bb01b46ac69b",
                "language": "sql"
            },
            "outputs": [],
            "source": [
                "-- Ejemplo B: Contar los productos en la categoría ‘Lácteos’.\n",
                "\n",
                "SELECT COUNT(*) AS total_lacteos\n",
                "FROM productos\n",
                "WHERE categoria = 'Lácteos';\n"
            ]
        },
        {
            "attachments": {},
            "cell_type": "markdown",
            "metadata": {
                "azdata_cell_guid": "10d55aaf-6522-45a8-874f-7ea912f8f257",
                "language": ""
            },
            "source": [
                "2. Ejemplo de SUM\n"
            ]
        },
        {
            "cell_type": "code",
            "execution_count": null,
            "metadata": {
                "azdata_cell_guid": "5069020d-c072-40a1-b69e-e31ef7bb0497",
                "language": "sql"
            },
            "outputs": [],
            "source": [
                "-- Ejemplo A: Calcular el total de ingresos generados por todas las ventas.\n",
                "\n",
                "SELECT SUM(total) AS ingresos_totales\n",
                "FROM ventas;\n"
            ]
        },
        {
            "cell_type": "code",
            "execution_count": null,
            "metadata": {
                "azdata_cell_guid": "ca10221d-0309-4c38-bd58-a466630764c9",
                "language": "sql"
            },
            "outputs": [],
            "source": [
                "-- Ejemplo B: Calcular el total de productos vendidos en la tabla detalle_ventas.\n",
                "\n",
                "SELECT SUM(cantidad) AS total_productos_vendidos\n",
                "FROM detalle_ventas;\n"
            ]
        },
        {
            "attachments": {},
            "cell_type": "markdown",
            "metadata": {
                "azdata_cell_guid": "aa61faa8-db64-41b8-8681-2e66b0cbb3b7",
                "language": ""
            },
            "source": [
                "3. Ejemplo de AVG\n"
            ]
        },
        {
            "cell_type": "code",
            "execution_count": null,
            "metadata": {
                "azdata_cell_guid": "dc6c08ad-7018-4ae6-8198-0c348e39c792",
                "language": "sql"
            },
            "outputs": [],
            "source": [
                "-- Ejemplo A: Calcular el precio promedio de los productos.\n",
                "\n",
                "SELECT AVG(precio) AS precio_promedio\n",
                "FROM productos;\n"
            ]
        },
        {
            "cell_type": "code",
            "execution_count": null,
            "metadata": {
                "azdata_cell_guid": "1cd3a86d-e698-4ba8-884f-0b996bc9cd26",
                "language": "sql"
            },
            "outputs": [],
            "source": [
                "-- Ejemplo B: Calcular el promedio del total de las ventas realizadas.\n",
                "\n",
                "SELECT AVG(total) AS promedio_total_ventas\n",
                "FROM ventas;\n"
            ]
        },
        {
            "attachments": {},
            "cell_type": "markdown",
            "metadata": {
                "azdata_cell_guid": "25258904-9758-4418-9ffb-6e1f2ae8da37",
                "language": ""
            },
            "source": [
                "4. Ejemplo de MIN\n"
            ]
        },
        {
            "cell_type": "code",
            "execution_count": null,
            "metadata": {
                "azdata_cell_guid": "7edb3875-3108-41b1-86c1-e50d66870d0c",
                "language": "sql"
            },
            "outputs": [],
            "source": [
                "-- Ejemplo A: Encontrar el precio más bajo entre los productos.\n",
                "\n",
                "SELECT MIN(precio) AS precio_minimo\n",
                "FROM productos;\n"
            ]
        },
        {
            "cell_type": "code",
            "execution_count": null,
            "metadata": {
                "azdata_cell_guid": "147674c3-1496-4b22-b7d8-3f3b206b4c13",
                "language": "sql"
            },
            "outputs": [],
            "source": [
                "-- Ejemplo B: Encontrar la fecha de la venta más antigua.\n",
                "\n",
                "SELECT MIN(fecha) AS primera_fecha_venta\n",
                "FROM ventas;\n"
            ]
        },
        {
            "attachments": {},
            "cell_type": "markdown",
            "metadata": {
                "azdata_cell_guid": "8efaf8ee-af70-41a9-82f8-5ccbfa317bfd",
                "language": ""
            },
            "source": [
                "5. Ejemplo de MAX\n"
            ]
        },
        {
            "cell_type": "code",
            "execution_count": null,
            "metadata": {
                "azdata_cell_guid": "c954b4bb-9766-4873-a5a7-54cbc71a9272",
                "language": "sql",
                "tags": []
            },
            "outputs": [],
            "source": [
                "-- Ejemplo A: Encontrar el precio más alto entre los productos.\n",
                "\n",
                "SELECT MAX(precio) AS precio_maximo\n",
                "FROM productos;\n"
            ]
        },
        {
            "cell_type": "code",
            "execution_count": null,
            "metadata": {
                "azdata_cell_guid": "62233977-4cc1-4987-a141-b527fb65caca",
                "language": "sql"
            },
            "outputs": [],
            "source": [
                "-- Ejemplo B: Encontrar el mayor total registrado en una venta.\n",
                "\n",
                "SELECT MAX(total) AS venta_mas_alta\n",
                "FROM ventas;\n"
            ]
        },
        {
            "attachments": {},
            "cell_type": "markdown",
            "metadata": {
                "azdata_cell_guid": "73108943-2797-42b1-bbf6-a329c7efea8d"
            },
            "source": [
                "# **¿Qué es una Subconsulta?**\n",
                "\n",
                "Una consulta dentro de otra consulta.\n",
                "\n",
                "Recordar que un SELECT también puede pensarse como una variable.\n",
                "\n",
                "Específicamente como una variable de tipo array"
            ]
        },
        {
            "cell_type": "code",
            "execution_count": null,
            "metadata": {
                "azdata_cell_guid": "b20fed99-7c6b-47dc-a226-dec55dbecaef",
                "language": "sql"
            },
            "outputs": [],
            "source": [
                "-- En el SELECT\n",
                "SELECT nombre, \n",
                "       (SELECT SUM(total) \n",
                "        FROM ventas \n",
                "        WHERE cliente_id = c.cliente_id) AS total_compras\n",
                "FROM clientes c;"
            ]
        },
        {
            "cell_type": "code",
            "execution_count": null,
            "metadata": {
                "azdata_cell_guid": "19d3db01-134b-4073-a0bd-12144cf1e73d",
                "language": "sql"
            },
            "outputs": [],
            "source": [
                "-- En el FROM\n",
                "SELECT categoria, precio_promedio\n",
                "FROM (\n",
                "    SELECT categoria, AVG(precio) AS precio_promedio\n",
                "    FROM productos\n",
                "    GROUP BY categoria\n",
                ") subcategorias;"
            ]
        },
        {
            "cell_type": "code",
            "execution_count": null,
            "metadata": {
                "azdata_cell_guid": "7c4ce389-b45a-4489-ac2f-064f5db4208b",
                "language": "sql"
            },
            "outputs": [],
            "source": [
                "-- En el WHERE\n",
                "SELECT nombre_producto\n",
                "FROM productos\n",
                "WHERE precio > (\n",
                "    SELECT AVG(precio) \n",
                "    FROM productos\n",
                ");"
            ]
        },
        {
            "attachments": {},
            "cell_type": "markdown",
            "metadata": {
                "azdata_cell_guid": "3ff0193d-3e3f-43f6-bd17-e8b7943968d0"
            },
            "source": [
                "A continuación, algunos ejemplos de aplicación"
            ]
        },
        {
            "attachments": {},
            "cell_type": "markdown",
            "metadata": {
                "azdata_cell_guid": "90c516ce-baac-49f7-b7aa-2ef20a0af056",
                "language": ""
            },
            "source": [
                "Subconsultas en el SELECT\n",
                "\n",
                "Subconsultas que calculan valores para mostrar en las columnas del resultado.\n"
            ]
        },
        {
            "cell_type": "code",
            "execution_count": null,
            "metadata": {
                "azdata_cell_guid": "4e264fe3-6c04-48b3-b16d-09a965ebfa51",
                "language": "sql",
                "tags": [
                    "hide_input"
                ]
            },
            "outputs": [],
            "source": [
                "-- Ejemplo A: Mostrar cada producto junto con el precio promedio de su categoría.\n",
                "\n",
                "SELECT \n",
                "    nombre_producto,\n",
                "    categoria,\n",
                "    precio,\n",
                "    (SELECT AVG(precio) \n",
                "     FROM productos \n",
                "     WHERE categoria = p.categoria) AS promedio_categoria\n",
                "FROM productos p;\n"
            ]
        },
        {
            "cell_type": "code",
            "execution_count": null,
            "metadata": {
                "azdata_cell_guid": "8365dc9d-6486-4797-a7a3-4b129d8c63ad",
                "language": "sql",
                "tags": []
            },
            "outputs": [],
            "source": [
                "-- Ejemplo B: Mostrar cada cliente junto con el total de sus compras.\n",
                "\n",
                "SELECT \n",
                "    nombre,\n",
                "    apellido,\n",
                "    (SELECT SUM(total) \n",
                "     FROM ventas \n",
                "     WHERE cliente_id = c.cliente_id) AS total_compras\n",
                "FROM clientes c;\n"
            ]
        },
        {
            "attachments": {},
            "cell_type": "markdown",
            "metadata": {
                "azdata_cell_guid": "1a7b6ff8-72f2-44dd-bdc1-7be63fb5ade4",
                "language": ""
            },
            "source": [
                "Subconsultas en el FROM\n",
                "\n",
                "Subconsultas que actúan como tablas temporales dentro de la consulta principal.\n"
            ]
        },
        {
            "cell_type": "code",
            "execution_count": null,
            "metadata": {
                "azdata_cell_guid": "a41bc1d9-19cc-4229-9463-d7bd093180bc",
                "language": "sql",
                "tags": [
                    "hide_input"
                ]
            },
            "outputs": [],
            "source": [
                "-- Ejemplo A: Listar las categorías de productos con su precio promedio, utilizando una subconsulta como tabla.\n",
                "\n",
                "SELECT \n",
                "    categoria,\n",
                "    precio_promedio\n",
                "FROM (\n",
                "    SELECT \n",
                "        categoria, \n",
                "        AVG(precio) AS precio_promedio\n",
                "    FROM productos\n",
                "    GROUP BY categoria\n",
                ") subcategorias;\n"
            ]
        },
        {
            "cell_type": "code",
            "execution_count": null,
            "metadata": {
                "azdata_cell_guid": "30e3eef0-c4a5-4392-8e25-307f1ccbf9e5",
                "language": "sql",
                "tags": [
                    "hide_input"
                ]
            },
            "outputs": [],
            "source": [
                "-- Ejemplo B: Mostrar clientes con el número total de ventas que han realizado.\n",
                "\n",
                "SELECT \n",
                "    c.nombre,\n",
                "    c.apellido,\n",
                "    subventas.total_ventas\n",
                "FROM clientes c\n",
                "LEFT JOIN (\n",
                "    SELECT \n",
                "        cliente_id, \n",
                "        COUNT(*) AS total_ventas\n",
                "    FROM ventas\n",
                "    GROUP BY cliente_id\n",
                ") subventas ON c.cliente_id = subventas.cliente_id;\n"
            ]
        },
        {
            "attachments": {},
            "cell_type": "markdown",
            "metadata": {
                "azdata_cell_guid": "5d470ca8-44d4-4a0d-b0a8-185d2ba16e46",
                "language": ""
            },
            "source": [
                "Subconsultas en el WHERE\n",
                "\n",
                "Subconsultas que filtran resultados en la consulta principal.\n"
            ]
        },
        {
            "cell_type": "code",
            "execution_count": null,
            "metadata": {
                "azdata_cell_guid": "9572a9ec-d5da-4e1e-9afb-756454618b22",
                "language": "sql",
                "tags": [
                    "hide_input"
                ]
            },
            "outputs": [],
            "source": [
                "-- Ejemplo A: Mostrar los productos con precio superior al promedio de todos los productos.\n",
                "\n",
                "SELECT \n",
                "    nombre_producto,\n",
                "    precio\n",
                "FROM productos\n",
                "WHERE precio > (\n",
                "    SELECT AVG(precio) \n",
                "    FROM productos\n",
                ");\n"
            ]
        },
        {
            "cell_type": "code",
            "execution_count": null,
            "metadata": {
                "azdata_cell_guid": "688573a2-31ba-4d1d-a704-02e371234f9f",
                "language": "sql",
                "tags": []
            },
            "outputs": [],
            "source": [
                "-- Ejemplo B: Listar los clientes que hayan realizado ventas superiores a $12.\n",
                "\n",
                "SELECT \n",
                "    nombre,\n",
                "    apellido\n",
                "FROM clientes c\n",
                "WHERE EXISTS (\n",
                "    SELECT 1\n",
                "    FROM ventas v\n",
                "    WHERE v.cliente_id = c.cliente_id \n",
                "    AND v.total > 12\n",
                ");\n"
            ]
        },
        {
            "attachments": {},
            "cell_type": "markdown",
            "metadata": {
                "azdata_cell_guid": "d9030c91-3438-4fc5-9a25-2e1bb3c66b95",
                "language": "sql"
            },
            "source": [
                "# **Common Table Expressions (CTE)**\n",
                "\n",
                "Un **Common Table Expression (CTE)** es una consulta temporal que puede ser referenciada dentro de una consulta más grande. Los CTE se definen utilizando la cláusula <span class=\"s1\" style=\"font-variant-numeric: normal; font-variant-east-asian: normal; font-variant-alternates: normal; font-kerning: auto; font-optical-sizing: auto; font-feature-settings: normal; font-variation-settings: normal; font-stretch: normal; line-height: normal; font-family: &quot;.AppleSystemUIFontMonospaced&quot;;\">WITH</span> y son particularmente útiles para simplificar consultas complejas, mejorar la legibilidad y estructurar cálculos intermedios."
            ]
        },
        {
            "cell_type": "code",
            "execution_count": null,
            "metadata": {
                "azdata_cell_guid": "d1f0c228-0f04-4248-ba53-ecdc9c0e5ad8",
                "language": "",
                "tags": []
            },
            "outputs": [],
            "source": [
                "WITH cte_nombre AS (\n",
                "    SELECT columna1, columna2\n",
                "    FROM tabla\n",
                "    WHERE condición\n",
                ")\n",
                "SELECT *\n",
                "FROM cte_nombre;"
            ]
        },
        {
            "attachments": {},
            "cell_type": "markdown",
            "metadata": {
                "azdata_cell_guid": "bc0fbe57-5b31-4dda-8d8e-5bc63ecda56e"
            },
            "source": [
                "**Ventajas de usar CTE**\n",
                "\n",
                "**Legibilidad y Mantenimiento:**\n",
                "\n",
                "\\- Permiten dividir consultas complejas en bloques lógicos más pequeños.\n",
                "\n",
                "\\- Ayudan a evitar duplicación de código al reutilizar partes de la consulta.\n",
                "\n",
                "**Reutilización:**\n",
                "\n",
                "<span style=\"color: var(--vscode-foreground); font-family: -apple-system, BlinkMacSystemFont, sans-serif;\">- Un CTE puede ser referenciado múltiples veces dentro de la misma consulta.</span><span style=\"font-family: -apple-system, BlinkMacSystemFont, sans-serif; color: var(--vscode-foreground);\"><br></span>\n",
                "\n",
                "<span style=\"color: var(--vscode-foreground); font-family: -apple-system, BlinkMacSystemFont, sans-serif;\">- Este es el caso donde son útiles frente a subconsultas</span>\n",
                "\n",
                "**Facilidad para Debugging:**\n",
                "\n",
                "\\- Es más fácil depurar y ajustar partes específicas de la consulta."
            ]
        },
        {
            "cell_type": "code",
            "execution_count": null,
            "metadata": {
                "azdata_cell_guid": "31faf185-e5f3-4339-a555-1e9993a510da",
                "language": "sql",
                "tags": [
                    "hide_input"
                ]
            },
            "outputs": [],
            "source": [
                "-- Ejemplo A: Calcular las categorías de productos con precio promedio y listar productos que exceden ese promedio.\n",
                "\n",
                "WITH promedio_por_categoria AS (\n",
                "    SELECT \n",
                "        categoria, \n",
                "        AVG(precio) AS promedio\n",
                "    FROM productos\n",
                "    GROUP BY categoria\n",
                ")\n",
                "SELECT \n",
                "    p.nombre_producto, \n",
                "    p.categoria, \n",
                "    p.precio, \n",
                "    cte.promedio\n",
                "FROM productos p\n",
                "JOIN promedio_por_categoria cte ON p.categoria = cte.categoria\n",
                "WHERE p.precio > cte.promedio;"
            ]
        },
        {
            "cell_type": "code",
            "execution_count": null,
            "metadata": {
                "azdata_cell_guid": "3782caec-918d-4c0f-80a2-2a5fe081c753",
                "language": "sql",
                "tags": [
                    "hide_input"
                ]
            },
            "outputs": [],
            "source": [
                "-- Ejemplo B: Calcular los clientes con el total de ventas realizadas y listar solo aquellos con más de 2 ventas.\n",
                "\n",
                "WITH ventas_por_cliente AS (\n",
                "    SELECT \n",
                "        cliente_id, \n",
                "        COUNT(*) AS total_ventas\n",
                "    FROM ventas\n",
                "    GROUP BY cliente_id\n",
                ")\n",
                "SELECT c.nombre, c.apellido, vpc.total_ventas\n",
                "FROM clientes c\n",
                "JOIN ventas_por_cliente vpc ON c.cliente_id = vpc.cliente_id\n",
                "WHERE vpc.total_ventas > 2;"
            ]
        },
        {
            "cell_type": "code",
            "execution_count": null,
            "metadata": {
                "azdata_cell_guid": "2e42031c-b6d1-4122-b730-7d334a80ddd5",
                "language": ""
            },
            "outputs": [],
            "source": [
                "SELECT nombre, apellido\n",
                "FROM clientes c\n",
                "WHERE EXISTS (\n",
                "    SELECT 1 \n",
                "    FROM ventas v \n",
                "    WHERE v.cliente_id = c.cliente_id AND v.total > 12\n",
                ");"
            ]
        },
        {
            "attachments": {},
            "cell_type": "markdown",
            "metadata": {
                "azdata_cell_guid": "85984e97-f4f7-43cb-8087-cc58509c3c20"
            },
            "source": [
                "# **¿Qué es HAVING?**\n",
                "\n",
                "La cláusula <span class=\"s1\" style=\"font-variant-numeric: normal; font-variant-east-asian: normal; font-variant-alternates: normal; font-kerning: auto; font-optical-sizing: auto; font-feature-settings: normal; font-variation-settings: normal; font-stretch: normal; line-height: normal; font-family: &quot;.AppleSystemUIFontMonospaced&quot;;\">HAVING</span> se utiliza en consultas SQL para filtrar grupos de resultados después de aplicar funciones de agregación. A diferencia de <span class=\"s1\" style=\"font-variant-numeric: normal; font-variant-east-asian: normal; font-variant-alternates: normal; font-kerning: auto; font-optical-sizing: auto; font-feature-settings: normal; font-variation-settings: normal; font-stretch: normal; line-height: normal; font-family: &quot;.AppleSystemUIFontMonospaced&quot;;\">WHERE</span>, que filtra filas antes de las agregaciones, <span class=\"s1\" style=\"font-variant-numeric: normal; font-variant-east-asian: normal; font-variant-alternates: normal; font-kerning: auto; font-optical-sizing: auto; font-feature-settings: normal; font-variation-settings: normal; font-stretch: normal; line-height: normal; font-family: &quot;.AppleSystemUIFontMonospaced&quot;;\">HAVING</span> opera sobre los resultados agrupados por la cláusula <span class=\"s1\" style=\"font-variant-numeric: normal; font-variant-east-asian: normal; font-variant-alternates: normal; font-kerning: auto; font-optical-sizing: auto; font-feature-settings: normal; font-variation-settings: normal; font-stretch: normal; line-height: normal; font-family: &quot;.AppleSystemUIFontMonospaced&quot;;\">GROUP BY</span>."
            ]
        },
        {
            "cell_type": "code",
            "execution_count": null,
            "metadata": {
                "azdata_cell_guid": "b95b0715-3bad-42b4-bf62-7776e602a6ce",
                "language": "sql"
            },
            "outputs": [],
            "source": [
                "SELECT columnas, función_agregada\n",
                "FROM tabla\n",
                "GROUP BY columnas\n",
                "HAVING condición;"
            ]
        },
        {
            "cell_type": "code",
            "execution_count": null,
            "metadata": {
                "azdata_cell_guid": "faac03ad-bda2-4a61-904c-a23a048b62c8",
                "language": ""
            },
            "outputs": [],
            "source": [
                "SELECT cliente_id, SUM(total) AS total_ventas\n",
                "FROM ventas\n",
                "GROUP BY cliente_id\n",
                "HAVING SUM(total) > 30;"
            ]
        },
        {
            "attachments": {},
            "cell_type": "markdown",
            "metadata": {
                "azdata_cell_guid": "50cc2de1-8626-44ec-aa06-e4700fedd0ed"
            },
            "source": [
                "# **Orden de ejecución de un SELECT completo**\n",
                "\n",
                "**Orden de Procesamiento Lógico**\n",
                "\n",
                "<span class=\"s1\" style=\"font-variant-numeric: normal; font-variant-east-asian: normal; font-variant-alternates: normal; font-kerning: auto; font-optical-sizing: auto; font-feature-settings: normal; font-variation-settings: normal; font-stretch: normal; line-height: normal; font-family: &quot;.AppleSystemUIFont&quot;;\"><span class=\"Apple-tab-span\" style=\"white-space: pre;\"></span>1.<span class=\"Apple-tab-span\" style=\"white-space: pre;\"> </span></span> FROM y JOIN<span class=\"s1\" style=\"font-variant-numeric: normal; font-variant-east-asian: normal; font-variant-alternates: normal; font-kerning: auto; font-optical-sizing: auto; font-feature-settings: normal; font-variation-settings: normal; font-stretch: normal; line-height: normal; font-family: &quot;.AppleSystemUIFont&quot;;\"><b>:</b><b></b></span>\n",
                "\n",
                "\\- El motor identifica las tablas involucradas y aplica las uniones (<span class=\"s2\" style=\"font-variant-numeric: normal; font-variant-east-asian: normal; font-variant-alternates: normal; font-kerning: auto; font-optical-sizing: auto; font-feature-settings: normal; font-variation-settings: normal; font-stretch: normal; line-height: normal; font-family: &quot;.AppleSystemUIFontMonospaced&quot;;\">JOIN</span>).\n",
                "\n",
                "<span style=\"font-family: -apple-system, BlinkMacSystemFont, sans-serif; color: var(--vscode-foreground);\">-</span> Filtra las filas según las condiciones de las uniones.\n",
                "\n",
                "<span class=\"s1\" style=\"font-variant-numeric: normal; font-variant-east-asian: normal; font-variant-alternates: normal; font-kerning: auto; font-optical-sizing: auto; font-feature-settings: normal; font-variation-settings: normal; font-stretch: normal; line-height: normal; font-family: &quot;.AppleSystemUIFont&quot;;\"><span class=\"Apple-tab-span\" style=\"white-space: pre;\"></span>2.<span class=\"Apple-tab-span\" style=\"white-space: pre;\"> </span></span> WHERE<span class=\"s1\" style=\"font-variant-numeric: normal; font-variant-east-asian: normal; font-variant-alternates: normal; font-kerning: auto; font-optical-sizing: auto; font-feature-settings: normal; font-variation-settings: normal; font-stretch: normal; line-height: normal; font-family: &quot;.AppleSystemUIFont&quot;;\"><b>:</b><b></b></span>\n",
                "\n",
                "<span style=\"font-family: -apple-system, BlinkMacSystemFont, sans-serif; color: var(--vscode-foreground);\">-</span> Filtra las filas basándose en condiciones especificadas antes de aplicar cualquier agregación.\n",
                "\n",
                "<span class=\"s1\" style=\"font-variant-numeric: normal; font-variant-east-asian: normal; font-variant-alternates: normal; font-kerning: auto; font-optical-sizing: auto; font-feature-settings: normal; font-variation-settings: normal; font-stretch: normal; line-height: normal; font-family: &quot;.AppleSystemUIFont&quot;;\"><span class=\"Apple-tab-span\" style=\"white-space: pre;\"></span>3.<span class=\"Apple-tab-span\" style=\"white-space: pre;\"> </span></span> GROUP BY<span class=\"s1\" style=\"font-variant-numeric: normal; font-variant-east-asian: normal; font-variant-alternates: normal; font-kerning: auto; font-optical-sizing: auto; font-feature-settings: normal; font-variation-settings: normal; font-stretch: normal; line-height: normal; font-family: &quot;.AppleSystemUIFont&quot;;\"><b>:</b><b></b></span>\n",
                "\n",
                "<span style=\"font-family: -apple-system, BlinkMacSystemFont, sans-serif; color: var(--vscode-foreground);\">-</span> Agrupa las filas en conjuntos definidos por una o más columnas.\n",
                "\n",
                "<span class=\"s1\" style=\"font-variant-numeric: normal; font-variant-east-asian: normal; font-variant-alternates: normal; font-kerning: auto; font-optical-sizing: auto; font-feature-settings: normal; font-variation-settings: normal; font-stretch: normal; line-height: normal; font-family: &quot;.AppleSystemUIFont&quot;;\"><span class=\"Apple-tab-span\" style=\"white-space: pre;\"></span>4.<span class=\"Apple-tab-span\" style=\"white-space: pre;\"> </span></span> HAVING<span class=\"s1\" style=\"font-variant-numeric: normal; font-variant-east-asian: normal; font-variant-alternates: normal; font-kerning: auto; font-optical-sizing: auto; font-feature-settings: normal; font-variation-settings: normal; font-stretch: normal; line-height: normal; font-family: &quot;.AppleSystemUIFont&quot;;\"><b>:</b></span>\n",
                "\n",
                "<span style=\"font-family: -apple-system, BlinkMacSystemFont, sans-serif; color: var(--vscode-foreground);\">-</span> <span style=\"font-family: -apple-system, BlinkMacSystemFont, sans-serif; color: var(--vscode-foreground);\">Filtra los grupos generados en </span> <span class=\"s2\" style=\"color: var(--vscode-foreground); font-variant-numeric: normal; font-variant-east-asian: normal; font-variant-alternates: normal; font-kerning: auto; font-optical-sizing: auto; font-feature-settings: normal; font-variation-settings: normal; font-stretch: normal; line-height: normal; font-family: &quot;.AppleSystemUIFontMonospaced&quot;;\">GROUP BY</span><span style=\"font-family: -apple-system, BlinkMacSystemFont, sans-serif; color: var(--vscode-foreground);\">.</span>\n",
                "\n",
                "<span class=\"s1\" style=\"font-variant-numeric: normal; font-variant-east-asian: normal; font-variant-alternates: normal; font-kerning: auto; font-optical-sizing: auto; font-feature-settings: normal; font-variation-settings: normal; font-stretch: normal; line-height: normal; font-family: &quot;.AppleSystemUIFont&quot;;\"><span class=\"Apple-tab-span\" style=\"white-space: pre;\"></span>5.<span class=\"Apple-tab-span\" style=\"white-space: pre;\"> </span></span> SELECT<span class=\"s1\" style=\"font-variant-numeric: normal; font-variant-east-asian: normal; font-variant-alternates: normal; font-kerning: auto; font-optical-sizing: auto; font-feature-settings: normal; font-variation-settings: normal; font-stretch: normal; line-height: normal; font-family: &quot;.AppleSystemUIFont&quot;;\"><b>:</b><b></b></span>\n",
                "\n",
                "<span style=\"font-family: -apple-system, BlinkMacSystemFont, sans-serif; color: var(--vscode-foreground);\">-</span> Devuelve las columnas seleccionadas y evalúa expresiones, incluidas las funciones de agregación.\n",
                "\n",
                "<span class=\"s1\" style=\"font-variant-numeric: normal; font-variant-east-asian: normal; font-variant-alternates: normal; font-kerning: auto; font-optical-sizing: auto; font-feature-settings: normal; font-variation-settings: normal; font-stretch: normal; line-height: normal; font-family: &quot;.AppleSystemUIFont&quot;;\"><span class=\"Apple-tab-span\" style=\"white-space: pre;\"></span>6.<span class=\"Apple-tab-span\" style=\"white-space: pre;\"> </span></span> ORDER BY<span class=\"s1\" style=\"font-variant-numeric: normal; font-variant-east-asian: normal; font-variant-alternates: normal; font-kerning: auto; font-optical-sizing: auto; font-feature-settings: normal; font-variation-settings: normal; font-stretch: normal; line-height: normal; font-family: &quot;.AppleSystemUIFont&quot;;\"><b>:</b><b></b></span>\n",
                "\n",
                "<span style=\"font-family: -apple-system, BlinkMacSystemFont, sans-serif; color: var(--vscode-foreground);\">-</span> Ordena las filas resultantes en función de una o más columnas o expresiones.\n",
                "\n",
                "<span class=\"s1\" style=\"font-variant-numeric: normal; font-variant-east-asian: normal; font-variant-alternates: normal; font-kerning: auto; font-optical-sizing: auto; font-feature-settings: normal; font-variation-settings: normal; font-stretch: normal; line-height: normal; font-family: &quot;.AppleSystemUIFont&quot;;\"><span class=\"Apple-tab-span\" style=\"white-space: pre;\"></span>7.<span class=\"Apple-tab-span\" style=\"white-space: pre;\"> </span></span> LIMIT<span class=\"s1\" style=\"font-variant-numeric: normal; font-variant-east-asian: normal; font-variant-alternates: normal; font-kerning: auto; font-optical-sizing: auto; font-feature-settings: normal; font-variation-settings: normal; font-stretch: normal; line-height: normal; font-family: &quot;.AppleSystemUIFont&quot;;\"><b>:</b><b></b></span>\n",
                "\n",
                "<span style=\"font-family: -apple-system, BlinkMacSystemFont, sans-serif; color: var(--vscode-foreground);\">-</span> Restringe el número de filas devueltas."
            ]
        },
        {
            "cell_type": "code",
            "execution_count": null,
            "metadata": {
                "azdata_cell_guid": "c1194d93-9b54-4e18-94ae-0bffd1654435",
                "language": "sql"
            },
            "outputs": [],
            "source": [
                "SELECT fecha, SUM(total) AS total_diario\n",
                "FROM ventas\n",
                "WHERE fecha >= CURRENT_DATE - 30\n",
                "GROUP BY fecha\n",
                "HAVING SUM(total) > 1000\n",
                "ORDER BY total_diario DESC\n",
                "LIMIT 10;"
            ]
        },
        {
            "attachments": {},
            "cell_type": "markdown",
            "metadata": {
                "azdata_cell_guid": "aa5a7d97-ca6d-4d8c-889e-9797fb4f974a",
                "language": "sql"
            },
            "source": [
                "**Explicación del Flujo de Procesamiento**\n",
                "\n",
                "1. <span class=\"s1\" style=\"font-variant-numeric: normal; font-variant-east-asian: normal; font-variant-alternates: normal; font-kerning: auto; font-optical-sizing: auto; font-feature-settings: normal; font-variation-settings: normal; font-stretch: normal; line-height: normal; font-family: &quot;.AppleSystemUIFontMonospaced&quot;;\">FROM ventas</span>**:** Selecciona la tabla <span class=\"s1\" style=\"font-variant-numeric: normal; font-variant-east-asian: normal; font-variant-alternates: normal; font-kerning: auto; font-optical-sizing: auto; font-feature-settings: normal; font-variation-settings: normal; font-stretch: normal; line-height: normal; font-family: &quot;.AppleSystemUIFontMonospaced&quot;;\">ventas</span>.\n",
                "\n",
                "2. <span class=\"s1\" style=\"font-variant-numeric: normal; font-variant-east-asian: normal; font-variant-alternates: normal; font-kerning: auto; font-optical-sizing: auto; font-feature-settings: normal; font-variation-settings: normal; font-stretch: normal; line-height: normal; font-family: &quot;.AppleSystemUIFontMonospaced&quot;;\">WHERE fecha &gt;= CURRENT_DATE - 30</span>**:** Filtra las filas para incluir solo ventas de los últimos 30 días.\n",
                "\n",
                "3. <span class=\"s1\" style=\"font-variant-numeric: normal; font-variant-east-asian: normal; font-variant-alternates: normal; font-kerning: auto; font-optical-sizing: auto; font-feature-settings: normal; font-variation-settings: normal; font-stretch: normal; line-height: normal; font-family: &quot;.AppleSystemUIFontMonospaced&quot;;\">GROUP BY fecha</span>**:** Agrupa las ventas por cada día (<span class=\"s1\" style=\"font-variant-numeric: normal; font-variant-east-asian: normal; font-variant-alternates: normal; font-kerning: auto; font-optical-sizing: auto; font-feature-settings: normal; font-variation-settings: normal; font-stretch: normal; line-height: normal; font-family: &quot;.AppleSystemUIFontMonospaced&quot;;\">fecha</span>).\n",
                "\n",
                "4. <span class=\"s1\" style=\"font-variant-numeric: normal; font-variant-east-asian: normal; font-variant-alternates: normal; font-kerning: auto; font-optical-sizing: auto; font-feature-settings: normal; font-variation-settings: normal; font-stretch: normal; line-height: normal; font-family: &quot;.AppleSystemUIFontMonospaced&quot;;\">HAVING SUM(total) &gt; 1000</span>**:** Filtra los días con ventas totales superiores a $1,000.\n",
                "\n",
                "5. <span class=\"s1\" style=\"font-variant-numeric: normal; font-variant-east-asian: normal; font-variant-alternates: normal; font-kerning: auto; font-optical-sizing: auto; font-feature-settings: normal; font-variation-settings: normal; font-stretch: normal; line-height: normal; font-family: &quot;.AppleSystemUIFontMonospaced&quot;;\">SELECT fecha, SUM(total)</span>**:** Selecciona las columnas <span class=\"s1\" style=\"font-variant-numeric: normal; font-variant-east-asian: normal; font-variant-alternates: normal; font-kerning: auto; font-optical-sizing: auto; font-feature-settings: normal; font-variation-settings: normal; font-stretch: normal; line-height: normal; font-family: &quot;.AppleSystemUIFontMonospaced&quot;;\">fecha</span> y el total de ventas por día.\n",
                "\n",
                "6. <span class=\"s1\" style=\"font-variant-numeric: normal; font-variant-east-asian: normal; font-variant-alternates: normal; font-kerning: auto; font-optical-sizing: auto; font-feature-settings: normal; font-variation-settings: normal; font-stretch: normal; line-height: normal; font-family: &quot;.AppleSystemUIFontMonospaced&quot;;\">ORDER BY total_diario DESC</span>**:** Ordena los resultados por el monto total de ventas en orden descendente.\n",
                "\n",
                "7. <span class=\"s1\" style=\"font-variant-numeric: normal; font-variant-east-asian: normal; font-variant-alternates: normal; font-kerning: auto; font-optical-sizing: auto; font-feature-settings: normal; font-variation-settings: normal; font-stretch: normal; line-height: normal; font-family: &quot;.AppleSystemUIFontMonospaced&quot;;\">LIMIT 10</span>**:** Devuelve solo los 10 días con mayores ventas."
            ]
        },
        {
            "attachments": {},
            "cell_type": "markdown",
            "metadata": {
                "azdata_cell_guid": "a134c49a-d68b-43a1-89c1-d23c82f4e1c4",
                "language": ""
            },
            "source": [
                "# **Introducción a Vistas**\n",
                "\n",
                "<span style=\"font-family: -apple-system, BlinkMacSystemFont, sans-serif; color: var(--vscode-foreground);\">Una vista es una consulta guardada como un objeto en la base de datos.</span>  \n",
                "\n",
                "Se utiliza como una tabla virtual para simplificar consultas complejas."
            ]
        },
        {
            "cell_type": "code",
            "execution_count": null,
            "metadata": {
                "azdata_cell_guid": "8d3ef9fc-6128-480c-989b-0a3898eee6db",
                "language": "sql"
            },
            "outputs": [],
            "source": [
                "CREATE VIEW ventas_por_cliente AS\n",
                "SELECT c.nombre, c.apellido, SUM(v.total) AS total_compras\n",
                "FROM clientes c\n",
                "JOIN ventas v ON c.cliente_id = v.cliente_id\n",
                "GROUP BY c.nombre, c.apellido;"
            ]
        },
        {
            "cell_type": "code",
            "execution_count": null,
            "metadata": {
                "azdata_cell_guid": "ec96c3ea-e6b2-4647-bb64-36227f64d8e4",
                "language": "sql"
            },
            "outputs": [],
            "source": [
                "SELECT * FROM ventas_por_cliente WHERE total_compras > 30;"
            ]
        },
        {
            "attachments": {},
            "cell_type": "markdown",
            "metadata": {
                "azdata_cell_guid": "9dea5077-cb74-4191-8c94-9436da12da90",
                "language": ""
            },
            "source": [
                "# **Vistas Materializadas**\n",
                "\n",
                "\\- Vistas que almacenan los resultados físicamente en la base de datos. \n",
                "\n",
                "\\- Mejora el rendimiento para consultas costosas o repetitivas."
            ]
        },
        {
            "cell_type": "code",
            "execution_count": null,
            "metadata": {
                "azdata_cell_guid": "9547b7c0-7c49-4997-9d3e-775bafd96388",
                "language": ""
            },
            "outputs": [],
            "source": [
                "CREATE MATERIALIZED VIEW productos_mas_vendidos AS\n",
                "SELECT p.nombre_producto, SUM(dv.cantidad) AS total_vendido\n",
                "FROM productos p\n",
                "JOIN detalle_ventas dv ON p.producto_id = dv.producto_id\n",
                "GROUP BY p.nombre_producto;"
            ]
        },
        {
            "cell_type": "code",
            "execution_count": null,
            "metadata": {
                "azdata_cell_guid": "a94fa2d3-6e70-4187-827a-7e180ae3229a",
                "language": "sql"
            },
            "outputs": [],
            "source": [
                "SELECT * FROM productos_mas_vendidos ORDER BY 2 DESC;"
            ]
        },
        {
            "cell_type": "code",
            "execution_count": null,
            "metadata": {
                "azdata_cell_guid": "6d08e4b8-a233-4aff-9daa-9df86d278e7a",
                "language": "sql"
            },
            "outputs": [],
            "source": [
                "REFRESH MATERIALIZED VIEW productos_mas_vendidos;"
            ]
        }
    ],
    "metadata": {
        "kernelspec": {
            "display_name": "SQL",
            "language": "sql",
            "name": "SQL"
        },
        "language_info": {
            "name": "sql",
            "version": ""
        }
    },
    "nbformat": 4,
    "nbformat_minor": 2
}
