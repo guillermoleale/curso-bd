{
 "cells": [
  {
   "cell_type": "markdown",
   "source": [
    "# Práctica Clase 1: Fundamentos de Bases de Datos Relacionales\n",
    "\n",
    "En este notebook realizaremos las prácticas correspondientes a la primera clase del curso, utilizando Azure Data Studio con conexión a PostgreSQL."
   ],
   "metadata": {}
  },
  {
   "cell_type": "markdown",
   "source": [
    "## Conexión a la Base de Datos\n",
    "\n",
    "Para esta práctica, nos conectaremos al servidor PostgreSQL con los siguientes parámetros:\n",
    "\n",
    "- **Servidor:** `192.168.0.52`\n",
    "- **Puerto:** `5432`\n",
    "- **Usuario:** `postgres`\n",
    "- **Contraseña:** `admin`\n",
    "\n",
    "Asegúrate de tener instalada la extensión de PostgreSQL en Azure Data Studio y de estar conectado a la base de datos antes de continuar."
   ],
   "metadata": {}
  },
  {
   "cell_type": "markdown",
   "source": [
    "## Creación de la Base de Datos `clase1_practica`"
   ],
   "metadata": {}
  },
  {
   "cell_type": "code",
   "source": [
    "CREATE DATABASE clase1_practica;"
   ],
   "metadata": {
    "language": "sql",
    "connection_name": "<tu_conexión_a_postgresql>"
   },
   "execution_count": null,
   "outputs": []
  },
  {
   "cell_type": "markdown",
   "source": [
    "Conéctate a la base de datos `clase1_practica` para continuar con las siguientes operaciones."
   ],
   "metadata": {}
  },
  {
   "cell_type": "markdown",
   "source": [
    "## Creación de Tablas y Definición de Claves"
   ],
   "metadata": {}
  },
  {
   "cell_type": "markdown",
   "source": [
    "### Tabla `estudiantes`\n",
    "\n",
    "La tabla `estudiantes` almacena la información de los estudiantes inscritos en los cursos."
   ],
   "metadata": {}
  },
  {
   "cell_type": "code",
   "source": [
    "CREATE TABLE estudiantes (\n",
    "  estudiante_id SERIAL PRIMARY KEY,\n",
    "  nombre VARCHAR(50),\n",
    "  apellido VARCHAR(50),\n",
    "  email VARCHAR(100)\n",
    ");"
   ],
   "metadata": {
    "language": "sql",
    "connection_name": "<tu_conexión_a_clase1_practica>"
   },
   "execution_count": null,
   "outputs": []
  },
  {
   "cell_type": "markdown",
   "source": [
    "### Tabla `cursos`\n",
    "\n",
    "La tabla `cursos` contiene información sobre los cursos disponibles."
   ],
   "metadata": {}
  },
  {
   "cell_type": "code",
   "source": [
    "CREATE TABLE cursos (\n",
    "  curso_id SERIAL PRIMARY KEY,\n",
    "  nombre_curso VARCHAR(100),\n",
    "  descripcion TEXT\n",
    ");"
   ],
   "metadata": {
    "language": "sql",
    "connection_name": "<tu_conexión_a_clase1_practica>"
   },
   "execution_count": null,
   "outputs": []
  },
  {
   "cell_type": "markdown",
   "source": [
    "### Tabla `matriculas`\n",
    "\n",
    "La tabla `matriculas` relaciona estudiantes con cursos, registrando en qué cursos está inscrito cada estudiante."
   ],
   "metadata": {}
  },
  {
   "cell_type": "code",
   "source": [
    "CREATE TABLE matriculas (\n",
    "  matricula_id SERIAL PRIMARY KEY,\n",
    "  estudiante_id INTEGER REFERENCES estudiantes(estudiante_id),\n",
    "  curso_id INTEGER REFERENCES cursos(curso_id),\n",
    "  fecha_matricula DATE DEFAULT CURRENT_DATE\n",
    ");"
   ],
   "metadata": {
    "language": "sql",
    "connection_name": "<tu_conexión_a_clase1_practica>"
   },
   "execution_count": null,
   "outputs": []
  },
  {
   "cell_type": "markdown",
   "source": [
    "## Inserción de Datos"
   ],
   "metadata": {}
  },
  {
   "cell_type": "markdown",
   "source": [
    "### Insertar datos en `estudiantes`"
   ],
   "metadata": {}
  },
  {
   "cell_type": "code",
   "source": [
    "INSERT INTO estudiantes (nombre, apellido, email)\n",
    "VALUES\n",
    "  ('Carlos', 'Pérez', 'carlos.perez@example.com'),\n",
    "  ('Laura', 'Gómez', 'laura.gomez@example.com'),\n",
    "  ('Miguel', 'Rodríguez', 'miguel.rodriguez@example.com');"
   ],
   "metadata": {
    "language": "sql",
    "connection_name": "<tu_conexión_a_clase1_practica>"
   },
   "execution_count": null,
   "outputs": []
  },
  {
   "cell_type": "markdown",
   "source": [
    "### Insertar datos en `cursos`"
   ],
   "metadata": {}
  },
  {
   "cell_type": "code",
   "source": [
    "INSERT INTO cursos (nombre_curso, descripcion)\n",
    "VALUES\n",
    "  ('Introducción a PostgreSQL', 'Aprende los conceptos básicos de PostgreSQL'),\n",
    "  ('SQL Avanzado', 'Profundiza en técnicas avanzadas de SQL');"
   ],
   "metadata": {
    "language": "sql",
    "connection_name": "<tu_conexión_a_clase1_practica>"
   },
   "execution_count": null,
   "outputs": []
  },
  {
   "cell_type": "markdown",
   "source": [
    "### Insertar datos en `matriculas`"
   ],
   "metadata": {}
  },
  {
   "cell_type": "code",
   "source": [
    "INSERT INTO matriculas (estudiante_id, curso_id)\n",
    "VALUES\n",
    "  (1, 1),\n",
    "  (2, 1),\n",
    "  (2, 2),\n",
    "  (3, 2);"
   ],
   "metadata": {
    "language": "sql",
    "connection_name": "<tu_conexión_a_clase1_practica>"
   },
   "execution_count": null,
   "outputs": []
  },
  {
   "cell_type": "markdown",
   "source": [
    "## Validación de Integridad Referencial"
   ],
   "metadata": {}
  },
  {
   "cell_type": "markdown",
   "source": [
    "Intentemos insertar una matrícula con un `estudiante_id` que no existe para observar cómo el sistema maneja la integridad referencial."
   ],
   "metadata": {}
  },
  {
   "cell_type": "code",
   "source": [
    "INSERT INTO matriculas (estudiante_id, curso_id)\n",
    "VALUES (99, 1);  -- Este estudiante no existe"
   ],
   "metadata": {
    "language": "sql",
    "connection_name": "<tu_conexión_a_clase1_practica>"
   },
   "execution_count": null,
   "outputs": []
  },
  {
   "cell_type": "markdown",
   "source": [
    "Deberías recibir un error indicando que la clave foránea `estudiante_id` no existe en la tabla `estudiantes`, lo que demuestra la integridad referencial."
   ],
   "metadata": {}
  },
  {
   "cell_type": "markdown",
   "source": [
    "## Consultas Básicas y Relaciones"
   ],
   "metadata": {}
  },
  {
   "cell_type": "markdown",
   "source": [
    "### Listar todos los estudiantes matriculados en un curso específico"
   ],
   "metadata": {}
  },
  {
   "cell_type": "code",
   "source": [
    "SELECT e.nombre, e.apellido, c.nombre_curso\n",
    "FROM estudiantes e\n",
    "JOIN matriculas m ON e.estudiante_id = m.estudiante_id\n",
    "JOIN cursos c ON m.curso_id = c.curso_id\n",
    "WHERE c.curso_id = 1;"
   ],
   "metadata": {
    "language": "sql",
    "connection_name": "<tu_conexión_a_clase1_practica>"
   },
   "execution_count": null,
   "outputs": []
  },
  {
   "cell_type": "markdown",
   "source": [
    "### Contar el número de estudiantes por curso"
   ],
   "metadata": {}
  },
  {
   "cell_type": "code",
   "source": [
    "SELECT c.nombre_curso, COUNT(m.estudiante_id) AS numero_estudiantes\n",
    "FROM cursos c\n",
    "LEFT JOIN matriculas m ON c.curso_id = m.curso_id\n",
    "GROUP BY c.nombre_curso;"
   ],
   "metadata": {
    "language": "sql",
    "connection_name": "<tu_conexión_a_clase1_practica>"
   },
   "execution_count": null,
   "outputs": []
  },
  {
   "cell_type": "markdown",
   "source": [
    "### Listar cursos en los que está matriculado un estudiante específico"
   ],
   "metadata": {}
  },
  {
   "cell_type": "code",
   "source": [
    "SELECT c.nombre_curso\n",
    "FROM cursos c\n",
    "JOIN matriculas m ON c.curso_id = m.curso_id\n",
    "JOIN estudiantes e ON m.estudiante_id = e.estudiante_id\n",
    "WHERE e.nombre = 'Laura' AND e.apellido = 'Gómez';"
   ],
   "metadata": {
    "language": "sql",
    "connection_name": "<tu_conexión_a_clase1_practica>"
   },
   "execution_count": null,
   "outputs": []
  },
  {
   "cell_type": "markdown",
   "source": [
    "## Actividad Adicional: Visualización de Datos\n",
    "\n",
    "Puedes utilizar las capacidades de Azure Data Studio para visualizar los resultados de las consultas en forma de tablas o gráficos."
   ],
   "metadata": {}
  },
  {
   "cell_type": "markdown",
   "source": [
    "## Conclusiones\n",
    "\n",
    "En esta práctica, hemos:\n",
    "\n",
    "- Creado una base de datos y tablas en PostgreSQL.\n",
    "- Definido claves primarias y foráneas para establecer relaciones.\n",
    "- Insertado datos y validado la integridad referencial.\n",
    "- Realizado consultas básicas para recuperar información relacionada.\n",
    "\n",
    "Esto sienta las bases para comprender cómo funcionan las bases de datos relacionales y cómo podemos interactuar con ellas utilizando SQL."
   ],
   "metadata": {}
  },
  {
   "cell_type": "markdown",
   "source": [
    "## Próximos Pasos\n",
    "\n",
    "Continúa explorando los datos y practica escribiendo tus propias consultas para obtener información adicional de la base de datos. ¡La práctica constante te ayudará a consolidar los conceptos aprendidos!"
   ],
   "metadata": {}
  }
 ],
 "metadata": {
  "kernelspec": {
   "display_name": "SQL",
   "language": "sql",
   "name": "SQL"
  },
  "language_info": {
   "name": "sql"
  },
  "azdata_notebook": {
   "connection_name": "<tu_conexión_a_clase1_practica>"
  }
 },
 "nbformat": 4,
 "nbformat_minor": 2
}