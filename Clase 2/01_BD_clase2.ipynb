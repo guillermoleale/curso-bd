{
    "metadata": {
        "kernelspec": {
            "name": "SQL",
            "display_name": "SQL",
            "language": "sql"
        },
        "language_info": {
            "name": "sql",
            "version": ""
        }
    },
    "nbformat_minor": 2,
    "nbformat": 4,
    "cells": [
        {
            "cell_type": "markdown",
            "source": [
                "# Entidades y Atributos\n",
                "##	1.	Empleados\n",
                "- Atributos:\n",
                "- empleado_id (Clave primaria).\n",
                "- nombre.\n",
                "- apellido.\n",
                "- fecha_nacimiento.\n",
                "- email.\n",
                "- salario.\n",
                "\n",
                "##	2.	Departamentos\n",
                "- Atributos:\n",
                "- departamento_id (Clave primaria).\n",
                "- nombre_departamento.\n",
                "- ubicación.\n",
                "    \n",
                "##	3.	Proyectos\n",
                "- Atributos:\n",
                "- proyecto_id (Clave primaria).\n",
                "- nombre_proyecto.\n",
                "- fecha_inicio.\n",
                "- fecha_fin.\n",
                "- presupuesto."
            ],
            "metadata": {
                "azdata_cell_guid": "99c01fd5-3565-42a9-a9da-d83c920e04c2"
            },
            "attachments": {}
        },
        {
            "cell_type": "markdown",
            "source": [
                "# Relaciones y Cardinalidades\n",
                "\n",
                "## Empleado trabaja en Proyecto (M:N):\n",
                "\n",
                "- Un empleado puede trabajar en varios proyectos.\n",
                "- Un proyecto puede tener varios empleados asignados.\n",
                "- Tabla intermedia: asignaciones para resolver la relación M:N.\n",
                "- Atributos: empleado\\_id, proyecto\\_id, horas\\_asignadas\n",
                "\n",
                "\n",
                "\n",
                "## Empleado pertenece a Departamento (1:N):\n",
                "\n",
                "- Un empleado pertenece a un solo departamento.\n",
                "- Un departamento puede tener varios empleados."
            ],
            "metadata": {
                "azdata_cell_guid": "7c8a7baa-ab13-4dbe-a898-23980f5f5bb7"
            },
            "attachments": {}
        }
    ]
}