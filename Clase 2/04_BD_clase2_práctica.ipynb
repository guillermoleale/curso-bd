{
    "metadata": {
        "kernelspec": {
            "name": "SQL",
            "display_name": "SQL",
            "language": "sql"
        },
        "language_info": {
            "name": "sql",
            "version": ""
        }
    },
    "nbformat_minor": 2,
    "nbformat": 4,
    "cells": [
        {
            "cell_type": "markdown",
            "source": [
                "# \t1.\tGestión de Clientes, Pedidos y Productos (CRM):\n",
                "Un sistema debe gestionar los clientes de una empresa, los pedidos que realizan y los productos que se incluyen en cada pedido. Cada pedido está asociado a un cliente y puede contener múltiples productos. Se debe registrar la cantidad y el precio de cada producto en el pedido.\n"
            ],
            "metadata": {
                "azdata_cell_guid": "b7b868cc-52f3-4d5a-ae9f-365fffa0d6d4"
            },
            "attachments": {}
        },
        {
            "cell_type": "markdown",
            "source": [
                "#\t2.\tGestión de Inventarios, Proveedores y Categorías de Productos (ERP):\n",
                "Un sistema debe gestionar los productos en inventario, los proveedores que los suministran y las categorías a las que pertenecen los productos. Cada producto pertenece a una categoría y puede ser suministrado por múltiples proveedores. También se debe registrar el precio de compra de cada proveedor para un producto.\n"
            ],
            "metadata": {
                "azdata_cell_guid": "38d88318-e799-477d-b9e7-0187fb16e5fd"
            },
            "attachments": {}
        },
        {
            "cell_type": "markdown",
            "source": [
                "#\t3.\tGestión de Ventas, Empleados y Sucursales (POS):\n",
                "Un sistema de punto de venta debe registrar las ventas realizadas, los empleados que las realizan y las sucursales donde se efectúan. Cada venta está asociada a un empleado y una sucursal, e incluye múltiples productos. También se debe registrar el precio unitario y la cantidad de cada producto vendido.\n"
            ],
            "metadata": {
                "azdata_cell_guid": "e22ed1ed-b01e-4961-9a2e-26e97b440a76"
            },
            "attachments": {}
        },
        {
            "cell_type": "markdown",
            "source": [
                "#\t4.\tGestión de Reservas en un Restaurante (POS):\n",
                "Un sistema debe gestionar las mesas, las reservas realizadas y los clientes que las efectúan. Cada mesa tiene un número único y capacidad. Las reservas están asociadas a una mesa y un cliente, con una fecha y hora. Se debe poder manejar varias reservas por cliente y mesa en horarios distintos.\n"
            ],
            "metadata": {
                "azdata_cell_guid": "6ed47890-4f49-4534-aae8-7c4d3e7d477a"
            },
            "attachments": {}
        },
        {
            "cell_type": "markdown",
            "source": [
                "#\t5.\tSistema de Login con Usuarios, Permisos y Grupos:\n",
                "Un sistema debe gestionar los usuarios que acceden al sistema, los permisos que tienen asignados y los grupos a los que pertenecen. Los grupos pueden tener múltiples permisos asociados, y los usuarios pueden pertenecer a uno o más grupos."
            ],
            "metadata": {
                "azdata_cell_guid": "cbe1cd2c-a7eb-49cd-86cf-c4aef1dddf60"
            },
            "attachments": {}
        }
    ]
}