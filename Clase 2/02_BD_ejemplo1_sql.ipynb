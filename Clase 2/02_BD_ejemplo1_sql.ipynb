{
    "metadata": {
        "kernelspec": {
            "name": "SQL",
            "display_name": "SQL",
            "language": "sql"
        },
        "language_info": {
            "name": "sql",
            "version": ""
        }
    },
    "nbformat_minor": 2,
    "nbformat": 4,
    "cells": [
        {
            "cell_type": "code",
            "source": [
                "-- CREATE DATABASE curso_BD"
            ],
            "metadata": {
                "azdata_cell_guid": "6621f386-e2c1-4ad6-964a-80ce2f2bc779",
                "language": "sql"
            },
            "outputs": [
                {
                    "output_type": "display_data",
                    "data": {
                        "text/html": "Total execution time: 00:00:00"
                    },
                    "metadata": {}
                }
            ],
            "execution_count": 6
        },
        {
            "cell_type": "code",
            "source": [
                "CREATE TABLE empleados (\n",
                "    empleado_id SERIAL PRIMARY KEY,\n",
                "    nombre VARCHAR(50),\n",
                "    apellido VARCHAR(50),\n",
                "    fecha_nacimiento DATE,\n",
                "    email VARCHAR(100) UNIQUE,\n",
                "    salario NUMERIC(10, 2)\n",
                ");"
            ],
            "metadata": {
                "azdata_cell_guid": "7b79d6b5-8e6e-4da7-9c7b-75f963bc6552",
                "language": "sql"
            },
            "outputs": [
                {
                    "output_type": "display_data",
                    "data": {
                        "text/html": "CREATE TABLE"
                    },
                    "metadata": {}
                },
                {
                    "output_type": "display_data",
                    "data": {
                        "text/html": "Total execution time: 00:00:00.015"
                    },
                    "metadata": {}
                }
            ],
            "execution_count": 7
        },
        {
            "cell_type": "code",
            "source": [
                "CREATE TABLE departamentos (\n",
                "    departamento_id SERIAL PRIMARY KEY,\n",
                "    nombre_departamento VARCHAR(100),\n",
                "    ubicacion VARCHAR(100)\n",
                ");"
            ],
            "metadata": {
                "language": "sql",
                "azdata_cell_guid": "bcec68ca-9cf7-4d75-8734-ee70ff9e0ca1"
            },
            "outputs": [
                {
                    "output_type": "display_data",
                    "data": {
                        "text/html": "CREATE TABLE"
                    },
                    "metadata": {}
                },
                {
                    "output_type": "display_data",
                    "data": {
                        "text/html": "Total execution time: 00:00:00.002"
                    },
                    "metadata": {}
                }
            ],
            "execution_count": 8
        },
        {
            "cell_type": "code",
            "source": [
                "CREATE TABLE proyectos (\n",
                "    proyecto_id SERIAL PRIMARY KEY,\n",
                "    nombre_proyecto VARCHAR(100),\n",
                "    fecha_inicio DATE,\n",
                "    fecha_fin DATE,\n",
                "    presupuesto NUMERIC(15, 2)\n",
                ");"
            ],
            "metadata": {
                "language": "sql",
                "azdata_cell_guid": "f866ffcb-ed40-4b9e-acad-8858eda96bc0"
            },
            "outputs": [
                {
                    "output_type": "display_data",
                    "data": {
                        "text/html": "CREATE TABLE"
                    },
                    "metadata": {}
                },
                {
                    "output_type": "display_data",
                    "data": {
                        "text/html": "Total execution time: 00:00:00.002"
                    },
                    "metadata": {}
                }
            ],
            "execution_count": 9
        },
        {
            "cell_type": "code",
            "source": [
                "CREATE TABLE asignaciones (\n",
                "    asignacion_id SERIAL PRIMARY KEY,\n",
                "    empleado_id INT REFERENCES empleados(empleado_id),\n",
                "    proyecto_id INT REFERENCES proyectos(proyecto_id),\n",
                "    horas_asignadas INT\n",
                ");"
            ],
            "metadata": {
                "language": "sql",
                "azdata_cell_guid": "48bf1a78-2211-47cc-a054-aab5ca9838a7"
            },
            "outputs": [
{
    "output_type": "display_data",
    "data": {
        "text/html": "CREATE TABLE"
    },
    "metadata": {}
}, {
    "output_type": "display_data",
    "data": {
        "text/html": "Total execution time: 00:00:00.017"
    },
    "metadata": {}
}
],
            "execution_count": 10
        }
    ]
}