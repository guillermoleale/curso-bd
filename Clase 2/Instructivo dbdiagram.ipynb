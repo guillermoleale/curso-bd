{
    "metadata": {
        "kernelspec": {
            "name": "SQL",
            "display_name": "SQL",
            "language": "sql"
        },
        "language_info": {
            "name": "sql",
            "version": ""
        }
    },
    "nbformat_minor": 2,
    "nbformat": 4,
    "cells": [
        {
            "cell_type": "markdown",
            "source": [
                "# Instructivo para Usar el Lenguaje de dbdiagram.io"
            ],
            "metadata": {
                "azdata_cell_guid": "29b309e0-92da-4209-aadf-c4966a3e3a9f"
            }
        },
        {
            "cell_type": "markdown",
            "source": [
                "### Estructura Básica de una Tabla\n",
                "\n",
                "Para definir una tabla, se utiliza la palabra clave `Table` seguida del nombre de la tabla. Los campos se declaran dentro de llaves `{}` y se especifica el tipo de dato para cada campo. Se puede usar `[pk]` para indicar la clave primaria y `[unique]` para valores únicos.\n",
                "\n",
                "**Ejemplo:**\n",
                "```plaintext\n",
                "Table clientes {\n",
                "  cliente_id SERIAL [pk]\n",
                "  nombre VARCHAR(50)\n",
                "  email VARCHAR(100) [unique]\n",
                "}\n",
                "```"
            ],
            "metadata": {
                "azdata_cell_guid": "e2240a96-3bb5-451d-a7e3-b7febbf5f169"
            }
        },
        {
            "cell_type": "markdown",
            "source": [
                "### Definir Relaciones Entre Tablas\n",
                "\n",
                "Las relaciones entre tablas se establecen utilizando la palabra clave `Ref`. El formato para definir una relación es:\n",
                "```plaintext\n",
                "Ref: origen.campo > destino.campo\n",
                "```\n",
                "\n",
                "**Ejemplo:**\n",
                "```plaintext\n",
                "Ref: pedidos.cliente_id > clientes.cliente_id\n",
                "```"
            ],
            "metadata": {
                "azdata_cell_guid": "e4201627-6eab-4d62-a985-593e58903c05"
            }
        },
        {
            "cell_type": "markdown",
            "source": [
                "### Tipos de Datos Comunes\n",
                "\n",
                "- `INT`: Números enteros.\n",
                "- `VARCHAR(x)`: Texto con un límite de `x` caracteres.\n",
                "- `TEXT`: Texto de longitud ilimitada.\n",
                "- `DATE`: Fecha.\n",
                "- `NUMERIC(x, y)`: Números con precisión decimal."
            ],
            "metadata": {
                "azdata_cell_guid": "c62aea4b-7a24-4a58-a86c-c0d7d4067a76"
            }
        },
        {
            "cell_type": "markdown",
            "source": [
                "### Definir Claves Foráneas Directamente en la Tabla\n",
                "\n",
                "Las relaciones pueden definirse directamente dentro de una tabla utilizando `[ref: > destino.campo]`.\n",
                "\n",
                "**Ejemplo:**\n",
                "```plaintext\n",
                "Table pedidos {\n",
                "  pedido_id SERIAL [pk]\n",
                "  cliente_id INT [ref: > clientes.cliente_id]\n",
                "  fecha DATE\n",
                "}\n",
                "```"
            ],
            "metadata": {
                "azdata_cell_guid": "921ac5ed-ffd7-4bf2-81b1-8349fb64e29e"
            }
        },
        {
            "cell_type": "markdown",
            "source": [
                "### Documentación en los Diagramas\n",
                "\n",
                "Se pueden agregar comentarios dentro del modelo utilizando `//` para aclaraciones.\n",
                "\n",
                "**Ejemplo:**\n",
                "```plaintext\n",
                "// Tabla de productos con su categoría y precio\n",
                "Table productos {\n",
                "  producto_id SERIAL [pk]\n",
                "  nombre VARCHAR(100)\n",
                "  precio NUMERIC(10, 2)\n",
                "}\n",
                "```"
            ],
            "metadata": {
                "azdata_cell_guid": "70d3d2bb-471b-4a4f-854d-2ecc9505d050"
            }
        },
        {
            "cell_type": "markdown",
            "source": [
                "### Definir Relaciones Muchos a Muchos\n",
                "\n",
                "Para representar relaciones muchos a muchos, se debe crear una tabla intermedia que conecte las tablas relacionadas. Esta tabla debe incluir claves foráneas para ambas tablas principales.\n",
                "\n",
                "**Ejemplo:**\n",
                "```plaintext\n",
                "Table pedidos_productos {\n",
                "  id SERIAL [pk]\n",
                "  pedido_id INT [ref: > pedidos.pedido_id]\n",
                "  producto_id INT [ref: > productos.producto_id]\n",
                "  cantidad INT\n",
                "}\n",
                "```"
            ],
            "metadata": {
                "azdata_cell_guid": "0cc75844-1483-4013-8877-38fc362738a9"
            }
        },
        {
            "cell_type": "markdown",
            "source": [
                "### Exportar y Compartir el Diagrama\n",
                "\n",
                "Una vez que el modelo está escrito, dbdiagram.io genera automáticamente un diagrama visual. Este puede exportarse como imagen o compartirse mediante un enlace generado en la herramienta."
            ],
            "metadata": {
                "azdata_cell_guid": "063051f5-8679-428a-a0d6-f88455c53308"
            }
        }
    ]
}