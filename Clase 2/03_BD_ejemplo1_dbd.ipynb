{
    "metadata": {
        "kernelspec": {
            "name": "SQL",
            "display_name": "SQL",
            "language": "sql"
        },
        "language_info": {
            "name": "sql",
            "version": ""
        }
    },
    "nbformat_minor": 2,
    "nbformat": 4,
    "cells": [
        {
            "cell_type": "markdown",
            "source": [
                "Table empleados {\n",
                "  empleado_id SERIAL [pk]\n",
                "  nombre VARCHAR(50)\n",
                "  apellido VARCHAR(50)\n",
                "  fecha_nacimiento DATE\n",
                "  email VARCHAR(100) [unique]\n",
                "  salario NUMERIC(10, 2)\n",
                "  departamento_id INT [ref: > departamentos.departamento_id]\n",
                "}\n",
                "Table departamentos {\n",
                "  departamento_id SERIAL [pk]\n",
                "  nombre_departamento VARCHAR(100)\n",
                "  ubicacion VARCHAR(100)\n",
                "}\n",
                "Table proyectos {\n",
                "  proyecto_id SERIAL [pk]\n",
                "  nombre_proyecto VARCHAR(100)\n",
                "  fecha_inicio DATE\n",
                "  fecha_fin DATE\n",
                "  presupuesto NUMERIC(15, 2)\n",
                "}\n",
                "Table asignaciones {\n",
                "  asignacion_id SERIAL [pk]\n",
                "  empleado_id INT [ref: > empleados.empleado_id]\n",
                "  proyecto_id INT [ref: > proyectos.proyecto_id]\n",
                "  horas_asignadas INT\n",
                "}"
            ],
            "metadata": {
                "azdata_cell_guid": "98d8e456-641c-454c-81fc-d4952a49b796",
                "language": ""
            },
            "attachments": {}
        }
    ]
}